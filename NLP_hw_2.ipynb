{
  "cells": [
    {
      "cell_type": "markdown",
      "metadata": {
        "id": "7kgiGzDR7MXY"
      },
      "source": [
        "На последнем семинаре мы проанализировали несколько различных морфологических теггеров. Как же узнать, какой использовать? Давайте сравним их качество!\n",
        "\n",
        "В этой домашке вам будет нужно найти тексты на русском языке (размер корпуса не менее 200 слов), в которых будут какие-то трудные или неоднозначные для POS теггинга моменты и разметить их вручную – с помощью этих текстов мы будем оценивать качество работы наших теггеров. В текстах размечаем только части речи, ничего больше!"
      ]
    },
    {
      "cell_type": "markdown",
      "metadata": {
        "id": "KFblgkFpO93t"
      },
      "source": [
        "`>python3 that_basic_thing.txt`\n",
        "\n",
        "`Hello world!`\n",
        "\n",
        "`>python3 dasha.exe`\n",
        "\n",
        "`Initializing...`"
      ]
    },
    {
      "cell_type": "markdown",
      "metadata": {
        "id": "bQFi72vGTaJc"
      },
      "source": [
        "Здравствуйте! Вас приветствует симулятор студента-программиста Dasha.exe! К сожалению, оператор сейчас тонет в дедлайнах, поэтому сегодня обслуживать Вас буду я. Я - всего лишь программа, поэтому в случае непредвиденных ошибок и багов перезагрузите программу или свяжитесь с оператором при помощи консольной команды `DASHA KHVATIT STRADAT'' FIGNEI`."
      ]
    },
    {
      "cell_type": "markdown",
      "metadata": {
        "id": "TAoDn5Ty8mtV"
      },
      "source": [
        "Приступим к выполнению Вашей задачи."
      ]
    },
    {
      "cell_type": "markdown",
      "metadata": {
        "id": "6Ce0ehw2U6u_"
      },
      "source": [
        "`[In]: (1 балл) Создание, разметка корпуса и объяснение того, почему этот текст подходит для оценки (какие моменты вы тут считаете трудными для автоматического посттеггинга и почему, в этом вам может помочь второй ридинг). Не забывайте, что разные теггеры могут использовать разные тегсеты: напишите комментарий о том, какой тегсет вы берёте для разметки и почему.`"
      ]
    },
    {
      "cell_type": "markdown",
      "metadata": {
        "id": "z3JQwpXtVC4Y"
      },
      "source": [
        "`[Out]:` Итак, сначала создадим корпус. Создавать его в целом будем с опорой на материал НКРЯ - но для начала определимся, какие именно морфологические трудности мы возьмем.\n",
        "\n",
        " - Имена собственные (и не только) с suggestive окончаниями\n",
        "    \n",
        "    Будут ли корректно распознаны части речи имен собственных: *Летучий*, *Броневой*, а также всякие кейсы частеречной конверсии типа *столовая*, *ванная*, etc?\n",
        "\n",
        "- Частичные омонимы\n",
        "    \n",
        "    Насколько осмысленно будут разделяться ЧР в контекстах типа *Мы еле-еле ели ели* и подобные ситуации?\n",
        "\n",
        "- Определение части речи несклоняемых слов\n",
        "\n",
        "    Как и подобает классификации, в частеречной классификации есть некоторая \"помойка\" - несклоняемые части речи. Даже лингвисты с трудом проводят границу между наречиями, частицами, союзами и другими премудростями русской грамматики - а как с этой задачей справится постеггинг?\n",
        "\n",
        "- Причастие или глагол - вот в чем вопрос\n",
        "\n",
        "    Русский глагол, вступив в незаконную связь с прилагательным и наречием, имеет двух внебрачных детей: причастие и деепричастие. Признает ли постеггер родственную связь и заставят ли глагол платить алименты? Это и многое другое мы узнаем далее в программе - не переключайтесь!\n",
        "\n",
        "- Местоимения, существительные, прилагательные и прочая куча\n",
        "\n",
        "    Еще одна своеобразная куча - это местоимения. В русском их много, они обладают достаточно своеобразной парадигмой, а еще они тоже склонны к внебрачным связям. Правда, недоказанным - только некоторые лингвисты распускают слухи про существование в их числе плодов запретной любви. Зато сколько: местоименные существительные, прилагательные, наречия...\n",
        "\n",
        "- Придуманные слова\n",
        "\n",
        "    А как парсеры будут сортировать слова, которые мы выдумаем здесь и сейчас? Это тоже интересный вопрос, ответ на который мы сейчас и узнаем))"
      ]
    },
    {
      "cell_type": "markdown",
      "metadata": {
        "id": "qv5mgTlOLcUh"
      },
      "source": [
        "Но до того, как мы это узнаем, надо, собственно, собрать тестовый корпус. Исходя из интуиции о том, что в каждом предложении где-то по десять слов, будем рассчитывать на корпус, состоящий из плюс-минус двадцати предложений.\n",
        "\n",
        "Значит, на каждую из наших \"сложностей\" мы можем найти по три контекста. Но никто не запрещает нам добавить больше, если нам в какой-то момент этого захочется)"
      ]
    },
    {
      "cell_type": "markdown",
      "metadata": {
        "id": "ABjw9pqBR9Qq"
      },
      "source": [
        "Итак, наши предложения:\n",
        " - Я даже не решилась советовать, не представляю такого пока!\n",
        " - Возвращались пугливые ветра и постилали степь ровным прахом.\n",
        " - При этом в Таджикистане размещаются известные на весь мир высокогорные массивы и Памир.\n",
        " - Табаков и Броневой адекватны своим ролям, не зря родственники настоящего Шелленберга благодарили актера за то, как он показал их предка…\n",
        " - Летучий согласился перенести пару на субботу, чем очень обрадовал весь поток. `з.ы.: это предложение не из корпуса`\n",
        " - Столовая при горисполкоме пустовала, одни щи на комбижире да винегрет из картофеля и свеклы, огурцы в городе не водились.\n",
        " - Две комнаты, кухня, туалет и неработающая ванная были буквально забиты тюками и коробками со старыми вещами.\n",
        " - Понятно, что в числе предприятий, которые могут быть деприватизированы таким способом, вряд ли окажется хоть одна парикмахерская или прачечная.\n",
        " - Они делаются тоже из сухой ели и устанавливаются на расстоянии 5-6 см друг от друга.\n",
        " - Исследования показывают, что люди, страдающие этим нервным заболеванием, ели очень мало орехов.\n",
        " - Нашлась карта шестой части земной суши.\n",
        " - Летом дуют слабые ветры, в основном бризы: днем с моря, утром и вечером с суши.\n",
        " - Не суши мокрое белье на работающем системном блоке! `тоже не из НКРЯ`\n",
        " - Мне работать раз в 10 больше нравится, чем в институте тупо сидеть на парах...\n",
        " - Сидеть и тупо перебирать бумажки — это не мое.\n",
        " - Прямо в таком виде можешь и отвечать.\n",
        " - Странно, разделяя волнение Гетманова и Неудобнова, торопивших его, Новиков, сам не зная почему, оттягивал свой отъезд.\n",
        " - В присутствии судьи спорящие стороны, приводя аргументы, пытаются найти решение, которое всех бы устроило.\n",
        " - Разразился жуткий скандал. сделавший некоторым фигурантам рынка необходимое паблисити, а Лужкову принесший одни неприятности.\n",
        " - Очень приятно, что портал создал думающий молодой мужчина.\n",
        " - Известен еще поющий бык, он тянул ноты своим мягким баритоном.\n",
        " - Смотришь фильм и понимаешь, какой большой вклад сделал каждый из них в эту великолепную киноработу.\n",
        " - С утра мы принесли домой кукаляку.\n",
        " - Утреннее заседание прошло пероно: мы договорились о многих вещах, которые раньше вызывали в команде разногласия."
      ]
    },
    {
      "cell_type": "markdown",
      "metadata": {
        "id": "zgyUJicHP8pU"
      },
      "source": [
        "Соберем наши предложения в список и, пользуясь случаем, установим и импортируем всё, что нам понадобится в дальнейшем. Устанавливаем модули:"
      ]
    },
    {
      "cell_type": "code",
      "execution_count": null,
      "metadata": {
        "colab": {
          "base_uri": "https://localhost:8080/"
        },
        "id": "rUGhk93_QK0J",
        "outputId": "b211606d-c571-4129-f661-e344638cbe91"
      },
      "outputs": [
        {
          "name": "stdout",
          "output_type": "stream",
          "text": [
            "Collecting ufal.udpipe\n",
            "  Downloading ufal.udpipe-1.3.0.1-cp310-cp310-manylinux_2_17_x86_64.manylinux2014_x86_64.whl (936 kB)\n",
            "\u001b[2K     \u001b[90m━━━━━━━━━━━━━━━━━━━━━━━━━━━━━━━━━━━━━━━\u001b[0m \u001b[32m937.0/937.0 kB\u001b[0m \u001b[31m4.9 MB/s\u001b[0m eta \u001b[36m0:00:00\u001b[0m\n",
            "\u001b[?25hInstalling collected packages: ufal.udpipe\n",
            "Successfully installed ufal.udpipe-1.3.0.1\n",
            "Collecting stanza\n",
            "  Downloading stanza-1.6.1-py3-none-any.whl (881 kB)\n",
            "\u001b[2K     \u001b[90m━━━━━━━━━━━━━━━━━━━━━━━━━━━━━━━━━━━━━━━\u001b[0m \u001b[32m881.2/881.2 kB\u001b[0m \u001b[31m7.2 MB/s\u001b[0m eta \u001b[36m0:00:00\u001b[0m\n",
            "\u001b[?25hCollecting emoji (from stanza)\n",
            "  Downloading emoji-2.8.0-py2.py3-none-any.whl (358 kB)\n",
            "\u001b[2K     \u001b[90m━━━━━━━━━━━━━━━━━━━━━━━━━━━━━━━━━━━━━━\u001b[0m \u001b[32m358.9/358.9 kB\u001b[0m \u001b[31m22.0 MB/s\u001b[0m eta \u001b[36m0:00:00\u001b[0m\n",
            "\u001b[?25hRequirement already satisfied: numpy in /usr/local/lib/python3.10/dist-packages (from stanza) (1.23.5)\n",
            "Requirement already satisfied: protobuf>=3.15.0 in /usr/local/lib/python3.10/dist-packages (from stanza) (3.20.3)\n",
            "Requirement already satisfied: requests in /usr/local/lib/python3.10/dist-packages (from stanza) (2.31.0)\n",
            "Requirement already satisfied: torch>=1.3.0 in /usr/local/lib/python3.10/dist-packages (from stanza) (2.0.1+cu118)\n",
            "Requirement already satisfied: tqdm in /usr/local/lib/python3.10/dist-packages (from stanza) (4.66.1)\n",
            "Requirement already satisfied: filelock in /usr/local/lib/python3.10/dist-packages (from torch>=1.3.0->stanza) (3.12.4)\n",
            "Requirement already satisfied: typing-extensions in /usr/local/lib/python3.10/dist-packages (from torch>=1.3.0->stanza) (4.5.0)\n",
            "Requirement already satisfied: sympy in /usr/local/lib/python3.10/dist-packages (from torch>=1.3.0->stanza) (1.12)\n",
            "Requirement already satisfied: networkx in /usr/local/lib/python3.10/dist-packages (from torch>=1.3.0->stanza) (3.1)\n",
            "Requirement already satisfied: jinja2 in /usr/local/lib/python3.10/dist-packages (from torch>=1.3.0->stanza) (3.1.2)\n",
            "Requirement already satisfied: triton==2.0.0 in /usr/local/lib/python3.10/dist-packages (from torch>=1.3.0->stanza) (2.0.0)\n",
            "Requirement already satisfied: cmake in /usr/local/lib/python3.10/dist-packages (from triton==2.0.0->torch>=1.3.0->stanza) (3.27.6)\n",
            "Requirement already satisfied: lit in /usr/local/lib/python3.10/dist-packages (from triton==2.0.0->torch>=1.3.0->stanza) (17.0.2)\n",
            "Requirement already satisfied: charset-normalizer<4,>=2 in /usr/local/lib/python3.10/dist-packages (from requests->stanza) (3.3.0)\n",
            "Requirement already satisfied: idna<4,>=2.5 in /usr/local/lib/python3.10/dist-packages (from requests->stanza) (3.4)\n",
            "Requirement already satisfied: urllib3<3,>=1.21.1 in /usr/local/lib/python3.10/dist-packages (from requests->stanza) (2.0.6)\n",
            "Requirement already satisfied: certifi>=2017.4.17 in /usr/local/lib/python3.10/dist-packages (from requests->stanza) (2023.7.22)\n",
            "Requirement already satisfied: MarkupSafe>=2.0 in /usr/local/lib/python3.10/dist-packages (from jinja2->torch>=1.3.0->stanza) (2.1.3)\n",
            "Requirement already satisfied: mpmath>=0.19 in /usr/local/lib/python3.10/dist-packages (from sympy->torch>=1.3.0->stanza) (1.3.0)\n",
            "Installing collected packages: emoji, stanza\n",
            "Successfully installed emoji-2.8.0 stanza-1.6.1\n",
            "Collecting fake_useragent\n",
            "  Downloading fake_useragent-1.3.0-py3-none-any.whl (15 kB)\n",
            "Installing collected packages: fake_useragent\n",
            "Successfully installed fake_useragent-1.3.0\n"
          ]
        }
      ],
      "source": [
        "!pip install ufal.udpipe\n",
        "!pip install stanza\n",
        "!pip install fake_useragent"
      ]
    },
    {
      "cell_type": "markdown",
      "metadata": {
        "id": "gLRjGSCbii6U"
      },
      "source": [
        "Импортируем модули:"
      ]
    },
    {
      "cell_type": "code",
      "execution_count": null,
      "metadata": {
        "id": "fVGCNz0yx154"
      },
      "outputs": [],
      "source": [
        "import spacy\n",
        "import stanza\n",
        "from ufal.udpipe import Model, Pipeline\n",
        "import pandas as pd\n",
        "from sklearn.metrics import accuracy_score\n",
        "from bs4 import BeautifulSoup\n",
        "import nltk\n",
        "from nltk.corpus import stopwords\n",
        "from pymystem3 import Mystem\n",
        "import re\n",
        "from string import punctuation\n",
        "import itertools\n",
        "import requests\n",
        "from fake_useragent import UserAgent"
      ]
    },
    {
      "cell_type": "markdown",
      "metadata": {
        "id": "5PxEn5-AiDjN"
      },
      "source": [
        "Устанавливаем модели:"
      ]
    },
    {
      "cell_type": "code",
      "execution_count": null,
      "metadata": {
        "colab": {
          "base_uri": "https://localhost:8080/"
        },
        "id": "4g7NMwm2gBvV",
        "outputId": "7225fc53-ee19-458e-dffd-1489edce178c"
      },
      "outputs": [
        {
          "name": "stderr",
          "output_type": "stream",
          "text": [
            "[nltk_data] Downloading package stopwords to /root/nltk_data...\n",
            "[nltk_data]   Unzipping corpora/stopwords.zip.\n"
          ]
        },
        {
          "data": {
            "text/plain": [
              "True"
            ]
          },
          "execution_count": 3,
          "metadata": {},
          "output_type": "execute_result"
        }
      ],
      "source": [
        "nltk.download('stopwords')"
      ]
    },
    {
      "cell_type": "code",
      "execution_count": null,
      "metadata": {
        "colab": {
          "base_uri": "https://localhost:8080/",
          "height": 1000,
          "referenced_widgets": [
            "1f7ef04ae10448ba8e3d5f975d69dd26",
            "03c9768dba4243dfb0b863ea024ecc70",
            "fa15e8f90b0e44a58338ba60df383730",
            "565e63e741b04fa0a0a115092d18befc",
            "7931349131ca4a799e8bc2286a94bbd0",
            "5a7b5c4b92fc44dc8f786af951bee213",
            "c46fa99051fe4938b400e9107e7fadd1",
            "3dec4cca235846ef9d552d723bd13ebd",
            "4f787be05179492485222a31d4731e4a",
            "3ce1699a8c884085a8dce70906e065d1",
            "f33d45bd432e455a8fb0bc7d6d53afac",
            "232e9b94d87d4d8a88c1bf73a7ccccd1",
            "509c03599ae1443b8335a5bcf797d1b7",
            "90f2ab634f9e4d179771374fcecdc842",
            "950efbfc5e254dac939ed886355eeb20",
            "10a18a66e48141c3a28fca9732261798",
            "9c9addee55844d20bf29c3b07bdbe306",
            "f9b15112bfee4e299bb545ab1bddbdfa",
            "3a6aabd920b14c18ae6825b334bba621",
            "fb58b16953c5478189cbe0b35a504723",
            "129ab610b5af402a940cb8bc0970f59a",
            "309cb99904aa4331bc5af0812a4bd1e1"
          ]
        },
        "id": "WGdNJgqyiDUW",
        "outputId": "8390b4fd-de27-4704-e37c-0b4d86f5643d"
      },
      "outputs": [
        {
          "name": "stdout",
          "output_type": "stream",
          "text": [
            "--2023-10-07 18:37:12--  https://github.com/jwijffels/udpipe.models.ud.2.0/raw/master/inst/udpipe-ud-2.0-170801/russian-ud-2.0-170801.udpipe\n",
            "Resolving github.com (github.com)... 20.27.177.113\n",
            "Connecting to github.com (github.com)|20.27.177.113|:443... connected.\n",
            "HTTP request sent, awaiting response... 302 Found\n",
            "Location: https://raw.githubusercontent.com/jwijffels/udpipe.models.ud.2.0/master/inst/udpipe-ud-2.0-170801/russian-ud-2.0-170801.udpipe [following]\n",
            "--2023-10-07 18:37:12--  https://raw.githubusercontent.com/jwijffels/udpipe.models.ud.2.0/master/inst/udpipe-ud-2.0-170801/russian-ud-2.0-170801.udpipe\n",
            "Resolving raw.githubusercontent.com (raw.githubusercontent.com)... 185.199.109.133, 185.199.110.133, 185.199.108.133, ...\n",
            "Connecting to raw.githubusercontent.com (raw.githubusercontent.com)|185.199.109.133|:443... connected.\n",
            "HTTP request sent, awaiting response... 200 OK\n",
            "Length: 13265262 (13M) [application/octet-stream]\n",
            "Saving to: ‘russian-ud-2.0-170801.udpipe’\n",
            "\n",
            "russian-ud-2.0-1708 100%[===================>]  12.65M  35.5MB/s    in 0.4s    \n",
            "\n",
            "2023-10-07 18:37:13 (35.5 MB/s) - ‘russian-ud-2.0-170801.udpipe’ saved [13265262/13265262]\n",
            "\n",
            "2023-10-07 18:37:17.472668: W tensorflow/compiler/tf2tensorrt/utils/py_utils.cc:38] TF-TRT Warning: Could not find TensorRT\n",
            "Collecting ru-core-news-lg==3.6.0\n",
            "  Downloading https://github.com/explosion/spacy-models/releases/download/ru_core_news_lg-3.6.0/ru_core_news_lg-3.6.0-py3-none-any.whl (513.4 MB)\n",
            "\u001b[2K     \u001b[90m━━━━━━━━━━━━━━━━━━━━━━━━━━━━━━━━━━━━━━━\u001b[0m \u001b[32m513.4/513.4 MB\u001b[0m \u001b[31m1.6 MB/s\u001b[0m eta \u001b[36m0:00:00\u001b[0m\n",
            "\u001b[?25hRequirement already satisfied: spacy<3.7.0,>=3.6.0 in /usr/local/lib/python3.10/dist-packages (from ru-core-news-lg==3.6.0) (3.6.1)\n",
            "Collecting pymorphy3>=1.0.0 (from ru-core-news-lg==3.6.0)\n",
            "  Downloading pymorphy3-1.2.1-py3-none-any.whl (55 kB)\n",
            "\u001b[2K     \u001b[90m━━━━━━━━━━━━━━━━━━━━━━━━━━━━━━━━━━━━━━━━\u001b[0m \u001b[32m55.4/55.4 kB\u001b[0m \u001b[31m1.4 MB/s\u001b[0m eta \u001b[36m0:00:00\u001b[0m\n",
            "\u001b[?25hCollecting dawg-python>=0.7.1 (from pymorphy3>=1.0.0->ru-core-news-lg==3.6.0)\n",
            "  Downloading DAWG_Python-0.7.2-py2.py3-none-any.whl (11 kB)\n",
            "Collecting docopt-ng>=0.6 (from pymorphy3>=1.0.0->ru-core-news-lg==3.6.0)\n",
            "  Downloading docopt_ng-0.9.0-py3-none-any.whl (16 kB)\n",
            "Collecting pymorphy3-dicts-ru (from pymorphy3>=1.0.0->ru-core-news-lg==3.6.0)\n",
            "  Downloading pymorphy3_dicts_ru-2.4.417150.4580142-py2.py3-none-any.whl (8.4 MB)\n",
            "\u001b[2K     \u001b[90m━━━━━━━━━━━━━━━━━━━━━━━━━━━━━━━━━━━━━━━━\u001b[0m \u001b[32m8.4/8.4 MB\u001b[0m \u001b[31m59.5 MB/s\u001b[0m eta \u001b[36m0:00:00\u001b[0m\n",
            "\u001b[?25hRequirement already satisfied: spacy-legacy<3.1.0,>=3.0.11 in /usr/local/lib/python3.10/dist-packages (from spacy<3.7.0,>=3.6.0->ru-core-news-lg==3.6.0) (3.0.12)\n",
            "Requirement already satisfied: spacy-loggers<2.0.0,>=1.0.0 in /usr/local/lib/python3.10/dist-packages (from spacy<3.7.0,>=3.6.0->ru-core-news-lg==3.6.0) (1.0.5)\n",
            "Requirement already satisfied: murmurhash<1.1.0,>=0.28.0 in /usr/local/lib/python3.10/dist-packages (from spacy<3.7.0,>=3.6.0->ru-core-news-lg==3.6.0) (1.0.10)\n",
            "Requirement already satisfied: cymem<2.1.0,>=2.0.2 in /usr/local/lib/python3.10/dist-packages (from spacy<3.7.0,>=3.6.0->ru-core-news-lg==3.6.0) (2.0.8)\n",
            "Requirement already satisfied: preshed<3.1.0,>=3.0.2 in /usr/local/lib/python3.10/dist-packages (from spacy<3.7.0,>=3.6.0->ru-core-news-lg==3.6.0) (3.0.9)\n",
            "Requirement already satisfied: thinc<8.2.0,>=8.1.8 in /usr/local/lib/python3.10/dist-packages (from spacy<3.7.0,>=3.6.0->ru-core-news-lg==3.6.0) (8.1.12)\n",
            "Requirement already satisfied: wasabi<1.2.0,>=0.9.1 in /usr/local/lib/python3.10/dist-packages (from spacy<3.7.0,>=3.6.0->ru-core-news-lg==3.6.0) (1.1.2)\n",
            "Requirement already satisfied: srsly<3.0.0,>=2.4.3 in /usr/local/lib/python3.10/dist-packages (from spacy<3.7.0,>=3.6.0->ru-core-news-lg==3.6.0) (2.4.8)\n",
            "Requirement already satisfied: catalogue<2.1.0,>=2.0.6 in /usr/local/lib/python3.10/dist-packages (from spacy<3.7.0,>=3.6.0->ru-core-news-lg==3.6.0) (2.0.10)\n",
            "Requirement already satisfied: typer<0.10.0,>=0.3.0 in /usr/local/lib/python3.10/dist-packages (from spacy<3.7.0,>=3.6.0->ru-core-news-lg==3.6.0) (0.9.0)\n",
            "Requirement already satisfied: pathy>=0.10.0 in /usr/local/lib/python3.10/dist-packages (from spacy<3.7.0,>=3.6.0->ru-core-news-lg==3.6.0) (0.10.2)\n",
            "Requirement already satisfied: smart-open<7.0.0,>=5.2.1 in /usr/local/lib/python3.10/dist-packages (from spacy<3.7.0,>=3.6.0->ru-core-news-lg==3.6.0) (6.4.0)\n",
            "Requirement already satisfied: tqdm<5.0.0,>=4.38.0 in /usr/local/lib/python3.10/dist-packages (from spacy<3.7.0,>=3.6.0->ru-core-news-lg==3.6.0) (4.66.1)\n",
            "Requirement already satisfied: numpy>=1.15.0 in /usr/local/lib/python3.10/dist-packages (from spacy<3.7.0,>=3.6.0->ru-core-news-lg==3.6.0) (1.23.5)\n",
            "Requirement already satisfied: requests<3.0.0,>=2.13.0 in /usr/local/lib/python3.10/dist-packages (from spacy<3.7.0,>=3.6.0->ru-core-news-lg==3.6.0) (2.31.0)\n",
            "Requirement already satisfied: pydantic!=1.8,!=1.8.1,<3.0.0,>=1.7.4 in /usr/local/lib/python3.10/dist-packages (from spacy<3.7.0,>=3.6.0->ru-core-news-lg==3.6.0) (1.10.13)\n",
            "Requirement already satisfied: jinja2 in /usr/local/lib/python3.10/dist-packages (from spacy<3.7.0,>=3.6.0->ru-core-news-lg==3.6.0) (3.1.2)\n",
            "Requirement already satisfied: setuptools in /usr/local/lib/python3.10/dist-packages (from spacy<3.7.0,>=3.6.0->ru-core-news-lg==3.6.0) (67.7.2)\n",
            "Requirement already satisfied: packaging>=20.0 in /usr/local/lib/python3.10/dist-packages (from spacy<3.7.0,>=3.6.0->ru-core-news-lg==3.6.0) (23.2)\n",
            "Requirement already satisfied: langcodes<4.0.0,>=3.2.0 in /usr/local/lib/python3.10/dist-packages (from spacy<3.7.0,>=3.6.0->ru-core-news-lg==3.6.0) (3.3.0)\n",
            "Requirement already satisfied: typing-extensions>=4.2.0 in /usr/local/lib/python3.10/dist-packages (from pydantic!=1.8,!=1.8.1,<3.0.0,>=1.7.4->spacy<3.7.0,>=3.6.0->ru-core-news-lg==3.6.0) (4.5.0)\n",
            "Requirement already satisfied: charset-normalizer<4,>=2 in /usr/local/lib/python3.10/dist-packages (from requests<3.0.0,>=2.13.0->spacy<3.7.0,>=3.6.0->ru-core-news-lg==3.6.0) (3.3.0)\n",
            "Requirement already satisfied: idna<4,>=2.5 in /usr/local/lib/python3.10/dist-packages (from requests<3.0.0,>=2.13.0->spacy<3.7.0,>=3.6.0->ru-core-news-lg==3.6.0) (3.4)\n",
            "Requirement already satisfied: urllib3<3,>=1.21.1 in /usr/local/lib/python3.10/dist-packages (from requests<3.0.0,>=2.13.0->spacy<3.7.0,>=3.6.0->ru-core-news-lg==3.6.0) (2.0.6)\n",
            "Requirement already satisfied: certifi>=2017.4.17 in /usr/local/lib/python3.10/dist-packages (from requests<3.0.0,>=2.13.0->spacy<3.7.0,>=3.6.0->ru-core-news-lg==3.6.0) (2023.7.22)\n",
            "Requirement already satisfied: blis<0.8.0,>=0.7.8 in /usr/local/lib/python3.10/dist-packages (from thinc<8.2.0,>=8.1.8->spacy<3.7.0,>=3.6.0->ru-core-news-lg==3.6.0) (0.7.11)\n",
            "Requirement already satisfied: confection<1.0.0,>=0.0.1 in /usr/local/lib/python3.10/dist-packages (from thinc<8.2.0,>=8.1.8->spacy<3.7.0,>=3.6.0->ru-core-news-lg==3.6.0) (0.1.3)\n",
            "Requirement already satisfied: click<9.0.0,>=7.1.1 in /usr/local/lib/python3.10/dist-packages (from typer<0.10.0,>=0.3.0->spacy<3.7.0,>=3.6.0->ru-core-news-lg==3.6.0) (8.1.7)\n",
            "Requirement already satisfied: MarkupSafe>=2.0 in /usr/local/lib/python3.10/dist-packages (from jinja2->spacy<3.7.0,>=3.6.0->ru-core-news-lg==3.6.0) (2.1.3)\n",
            "Installing collected packages: pymorphy3-dicts-ru, dawg-python, docopt-ng, pymorphy3, ru-core-news-lg\n",
            "Successfully installed dawg-python-0.7.2 docopt-ng-0.9.0 pymorphy3-1.2.1 pymorphy3-dicts-ru-2.4.417150.4580142 ru-core-news-lg-3.6.0\n",
            "\u001b[38;5;2m✔ Download and installation successful\u001b[0m\n",
            "You can now load the package via spacy.load('ru_core_news_lg')\n"
          ]
        },
        {
          "data": {
            "application/vnd.jupyter.widget-view+json": {
              "model_id": "1f7ef04ae10448ba8e3d5f975d69dd26",
              "version_major": 2,
              "version_minor": 0
            },
            "text/plain": [
              "Downloading https://raw.githubusercontent.com/stanfordnlp/stanza-resources/main/resources_1.6.0.json:   0%|   …"
            ]
          },
          "metadata": {},
          "output_type": "display_data"
        },
        {
          "name": "stderr",
          "output_type": "stream",
          "text": [
            "INFO:stanza:Downloading default packages for language: ru (Russian) ...\n"
          ]
        },
        {
          "data": {
            "application/vnd.jupyter.widget-view+json": {
              "model_id": "232e9b94d87d4d8a88c1bf73a7ccccd1",
              "version_major": 2,
              "version_minor": 0
            },
            "text/plain": [
              "Downloading https://huggingface.co/stanfordnlp/stanza-ru/resolve/v1.6.0/models/default.zip:   0%|          | 0…"
            ]
          },
          "metadata": {},
          "output_type": "display_data"
        },
        {
          "name": "stderr",
          "output_type": "stream",
          "text": [
            "INFO:stanza:Finished downloading models and saved to /root/stanza_resources.\n",
            "[nltk_data] Downloading package stopwords to /root/nltk_data...\n",
            "[nltk_data]   Package stopwords is already up-to-date!\n"
          ]
        },
        {
          "data": {
            "text/plain": [
              "True"
            ]
          },
          "execution_count": 4,
          "metadata": {},
          "output_type": "execute_result"
        }
      ],
      "source": [
        "!wget https://github.com/jwijffels/udpipe.models.ud.2.0/raw/master/inst/udpipe-ud-2.0-170801/russian-ud-2.0-170801.udpipe\n",
        "!python -m spacy download ru_core_news_lg\n",
        "stanza.download('ru')\n",
        "nltk.download('stopwords')"
      ]
    },
    {
      "cell_type": "code",
      "execution_count": null,
      "metadata": {
        "id": "3l38JhN0wcGF"
      },
      "outputs": [],
      "source": [
        "text_list = [\"Я сама даже не решилась советовать, не представляю такого пока!\",\n",
        "             \"Возвращались пугливые ветра и постилали степь ровным прахом.\",\n",
        "             \"При этом в Таджикистане размещаются известные на весь мир высокогорные массивы и Памир.\",\n",
        "             \"Табаков и Броневой адекватны своим ролям, не зря родственники настоящего Шелленберга благодарили актера за то, как он показал их предка…\",\n",
        "             \"Летучий согласился перенести пару на субботу, чем очень обрадовал весь поток.\",\n",
        "             \"Столовая при горисполкоме пустовала, одни щи на комбижире да винегрет из картофеля и свеклы, огурцы в городе не водились.\",\n",
        "             \"Две комнаты, кухня, туалет и неработающая ванная были буквально забиты тюками и коробками со старыми вещами.\",\n",
        "             \"Понятно, что в числе предприятий, которые могут быть деприватизированы таким способом, вряд ли окажется хоть одна парикмахерская или прачечная.\",\n",
        "             \"Они делаются тоже из сухой ели и устанавливаются на расстоянии 5-6 см друг от друга.\",\n",
        "             \"Исследования показывают, что люди, страдающие этим нервным заболеванием, ели очень мало орехов.\",\n",
        "             \"Нашлась карта шестой части земной суши.\",\n",
        "             \"Летом дуют слабые ветры, в основном бризы: днем с моря, утром и вечером с суши.\",\n",
        "             \"Не суши мокрое белье на работающем системном блоке!\",\n",
        "             \"Мне работать раз в 10 больше нравится, чем в институте тупо сидеть на парах.\"\n",
        "             \"Сидеть и тупо перебирать бумажки — это не мое.\",\n",
        "             \"Прямо в таком виде можешь и отвечать.\",\n",
        "             \"Странно, разделяя волнение Гетманова и Неудобнова, торопивших его, Новиков, сам не зная почему, оттягивал свой отъезд.\",\n",
        "             \"В присутствии судьи спорящие стороны, приводя аргументы, пытаются найти решение, которое всех бы устроило.\",\n",
        "             \"Разразился жуткий скандал. сделавший некоторым фигурантам рынка необходимое паблисити, а Лужкову принесший одни неприятности.\",\n",
        "             \"Очень приятно, что портал создал думающий молодой мужчина.\",\n",
        "             \"Известен еще поющий бык, он тянул ноты своим мягким баритоном.\"\n",
        "             \"Смотришь фильм и понимаешь, какой большой вклад сделал каждый из них в эту великолепную киноработу.\",\n",
        "             \"С утра мы принесли домой кукаляку.\",\n",
        "             \"Утреннее заседание прошло пероно: мы договорились о многих вещах, которые раньше вызывали в команде разногласия.\"]"
      ]
    },
    {
      "cell_type": "markdown",
      "metadata": {
        "id": "C0mnex5Y8ENM"
      },
      "source": [
        "Для ускорения процесса воспользуемся токенизатором SpaCy: при токенизации он выделяет каждое слово и каждый знак пунктуации как отдельный токен. Такой нотации будем придерживаться и мы. Сразу оговоримся, что при составлении корпуса текстов мы специально избегали слов, которые написаны через дефис. Если мы будем их рассматривать, нам придется как-то учитывать то, что разные парсеры могут токенизировать текст по-разному - а в рамках составления единой функции для сравнения это уже отдельная задача. С целью оптимизации пайплайна этот шаг был пропущен~"
      ]
    },
    {
      "cell_type": "markdown",
      "metadata": {
        "id": "8C13QF6l-TJ1"
      },
      "source": [
        "Запишем результат токенизации в файл .tsv так, чтобы мы смогли удобно перенести его в Эксель и обратно:"
      ]
    },
    {
      "cell_type": "code",
      "execution_count": null,
      "metadata": {
        "id": "gcXl0XVDxx8u"
      },
      "outputs": [],
      "source": [
        "nlp = spacy.load(\"ru_core_news_lg\")\n",
        "write_doc = open('hand.tsv', 'w')\n",
        "for text in text_list:\n",
        "    doc = nlp(text)\n",
        "    for token in doc:\n",
        "        write_doc.write(str(token) + '\\t')\n",
        "        write_doc.write('\\n')\n",
        "write_doc.close()"
      ]
    },
    {
      "cell_type": "markdown",
      "metadata": {
        "id": "tszSjgwL-juX"
      },
      "source": [
        "`[System message]: Please stand by, hand-tagging is in progress`\n",
        "\n",
        "`Progress: |          |0%`\n",
        "\n",
        "`Progress: |||        |20%`\n",
        "\n",
        "`Progress: |||||      |50%`\n",
        "\n",
        "`Progress: ||||||||   |75%`\n",
        "\n",
        "`Progress: |||||||||| |95%`\n",
        "\n",
        "`Hand-tagging task - Complete!`\n",
        "\n",
        "`[In]: Dasha.exe print report --natural language = True`\n",
        "\n",
        "`[Out]`: При разметке мы руководствовались стандартом Universal Dependancies, описанном [здесь](https://universaldependencies.org/ru/index.html) - а именно набором тегов UPOS. В качестве более конкретного референса мы обращались к разметке Трибанка [\"Тайга\"](https://universaldependencies.org/treebanks/ru_taiga/index.html). С целью улучшения совместимости мы избавились от суб-тегов, встречающихся в системе \"Тайга\", типа `AUX-Fin`, `VERB-Inf`, etc. Все такие кейсы были упрощены до родительского тега: так,\n",
        "\n",
        " - `AUX-Fin` -> `AUX`\n",
        " - `VERB-Inf` -> `VERB`\n",
        "\n",
        "\n",
        "Возьмем для разметки именно этот тегсет, потому что он:\n",
        "\n",
        "а) Достаточно универсальный\n",
        "\n",
        "б) Реализован сразу в нескольких парсерах из сегодняшних конкурсантов - это хороший повод сравнить, какой именно парсер окажется ближе к правде.\n",
        "\n",
        "в) хорошо документированный, что позволяет легко использовать его для разметки\n",
        "\n",
        " Считаем обратно наш размеченный файл:"
      ]
    },
    {
      "cell_type": "code",
      "execution_count": null,
      "metadata": {
        "colab": {
          "base_uri": "https://localhost:8080/"
        },
        "id": "OTnEtvMVIZ53",
        "outputId": "9e783a16-6c23-4687-a47c-2a682bad12ca"
      },
      "outputs": [
        {
          "data": {
            "text/plain": [
              "359"
            ]
          },
          "execution_count": 7,
          "metadata": {},
          "output_type": "execute_result"
        }
      ],
      "source": [
        "ideal = pd.read_csv('hand_done.csv', sep=\"\\t\")\n",
        "pos_ideal = ideal['POS'].to_list()\n",
        "len(pos_ideal)"
      ]
    },
    {
      "cell_type": "markdown",
      "metadata": {
        "id": "8TU7fLPzFn-l"
      },
      "source": [
        "`[In]:\n",
        "(3 балла) Потом вам будет нужно взять три POS теггера для русского языка (udpipe, stanza, natasha, pymorphy, mystem, spacy, deeppavlov) и «прогнать» текст через каждый из них.`"
      ]
    },
    {
      "cell_type": "markdown",
      "metadata": {
        "id": "N6xZZFRIF9lA"
      },
      "source": [
        "`[Out]:` А вот и наши конкурсанты! Как мы уже упоминали, выберем из списка два тэггера, которые \"исповедуют\" Universal Dependencies: сравним их с нашей идеальной разметкой.\n",
        "\n",
        "\\*неловкая пауза\\*\n",
        "\n",
        ">К сожалению, мы вынуждены снять с регаты яхту \"Беда\", так как, согласно правилам, экипаж должен состоять из трёх человек, а на \"Беде\" только двое!\n",
        "\n",
        "![image](https://i.ytimg.com/vi/BrAq4xwPpCY/maxresdefault.jpg)\n",
        "\n",
        ">Лом, срочно найдите третьего!\n",
        "\n",
        "![image](https://avatars.dzeninfra.ru/get-zen_doc/8866523/pub_64805beeb5653854c339cb44_6480648b6d418274f933302b/scale_1200)\n",
        "\n",
        ">...\n",
        "\n",
        "![image](https://github.com/harlamovads/hse_nlp/blob/main/meme.png?raw=true)"
      ]
    },
    {
      "cell_type": "markdown",
      "metadata": {
        "id": "0brlhl4CKH3a"
      },
      "source": [
        "В общем, вот так у нас и появился Спейси. Если серьезно, то его система морфологического тегирования достаточно легко сводится к ЮД - а еще это одна из самых популярных NLP-шных библиотек, поэтому интересно, как он справится с материалом русского языка в сравнении с ЮД.\n",
        "\n",
        "`!system warning: в процессе чтения доков я выяснила, что спейси правда живет на ЮД, что и является железным обоснованием того, почему я его взяла, но мне очень жалко мем, можно, он останется?)`"
      ]
    },
    {
      "cell_type": "markdown",
      "metadata": {
        "id": "MHUFNwj9Kmhp"
      },
      "source": [
        "Обработаем наши предложения UDPipe:"
      ]
    },
    {
      "cell_type": "code",
      "execution_count": null,
      "metadata": {
        "id": "9u3Rx8M_KLdU"
      },
      "outputs": [],
      "source": [
        "model = Model.load(\"russian-ud-2.0-170801.udpipe\")\n",
        "pipeline = Pipeline(model, 'generic_tokenizer', '', '', '')\n",
        "tokens = []\n",
        "POS = []\n",
        "for sent in text_list:\n",
        "    parsed = pipeline.process(sent)\n",
        "    for i in range (4, len(parsed.split('\\n')[:-2])):\n",
        "        tokens.append(parsed.split('\\n')[i].split('\\t')[1])\n",
        "        POS.append(parsed.split('\\n')[i].split('\\t')[3])"
      ]
    },
    {
      "cell_type": "code",
      "execution_count": null,
      "metadata": {
        "colab": {
          "base_uri": "https://localhost:8080/"
        },
        "id": "fEf-dQI-OQIe",
        "outputId": "4fc39d0f-6acd-43cb-9bfb-3f3dcc578d6e"
      },
      "outputs": [
        {
          "data": {
            "text/plain": [
              "359"
            ]
          },
          "execution_count": 9,
          "metadata": {},
          "output_type": "execute_result"
        }
      ],
      "source": [
        "UDP_result = pd.DataFrame({'Token': tokens, 'POS': POS})\n",
        "len(UDP_result)"
      ]
    },
    {
      "cell_type": "markdown",
      "metadata": {
        "id": "UUIwjpH_TztD"
      },
      "source": [
        "Прогоним наши предложения через Stanza:"
      ]
    },
    {
      "cell_type": "code",
      "execution_count": null,
      "metadata": {
        "colab": {
          "base_uri": "https://localhost:8080/",
          "height": 427,
          "referenced_widgets": [
            "c4149df3d507443da9aa7a9c23c978b1",
            "73f014714d1149529b4e9c9cbd2b90f4",
            "4c807ca036f54295abd16634743af501",
            "32bff563e1d9404da1a45c6b60de366f",
            "4d71f0a2efae44c9b2de169e0d1c1668",
            "1116f772b3be4f84b9c3ed6b52b12c34",
            "79e786f0e1f7417ab7543ea505e1d119",
            "65ad0c5ff21b45129cdb9ed418a3f611",
            "b3f550abd709422aaab043b498a61773",
            "23a7a3f041294820bba91fdc60d026ce",
            "09830e94ea254cc8a119e0ddb3ced45b"
          ]
        },
        "id": "MHbvQ8_SLszt",
        "outputId": "2b9c5f18-8ada-4a1d-c81d-2ad0f85ee80d"
      },
      "outputs": [
        {
          "name": "stderr",
          "output_type": "stream",
          "text": [
            "INFO:stanza:Checking for updates to resources.json in case models have been updated.  Note: this behavior can be turned off with download_method=None or download_method=DownloadMethod.REUSE_RESOURCES\n"
          ]
        },
        {
          "data": {
            "application/vnd.jupyter.widget-view+json": {
              "model_id": "c4149df3d507443da9aa7a9c23c978b1",
              "version_major": 2,
              "version_minor": 0
            },
            "text/plain": [
              "Downloading https://raw.githubusercontent.com/stanfordnlp/stanza-resources/main/resources_1.6.0.json:   0%|   …"
            ]
          },
          "metadata": {},
          "output_type": "display_data"
        },
        {
          "name": "stderr",
          "output_type": "stream",
          "text": [
            "INFO:stanza:Loading these models for language: ru (Russian):\n",
            "==================================\n",
            "| Processor | Package            |\n",
            "----------------------------------\n",
            "| tokenize  | syntagrus          |\n",
            "| pos       | syntagrus_charlm   |\n",
            "| lemma     | syntagrus_nocharlm |\n",
            "| depparse  | syntagrus_charlm   |\n",
            "| ner       | wikiner            |\n",
            "==================================\n",
            "\n",
            "INFO:stanza:Using device: cpu\n",
            "INFO:stanza:Loading: tokenize\n",
            "INFO:stanza:Loading: pos\n",
            "INFO:stanza:Loading: lemma\n",
            "INFO:stanza:Loading: depparse\n",
            "INFO:stanza:Loading: ner\n",
            "INFO:stanza:Done loading processors!\n"
          ]
        }
      ],
      "source": [
        "nlp_st = stanza.Pipeline('ru')\n",
        "tokens = []\n",
        "POS = []\n",
        "for sents in text_list:\n",
        "    doc = nlp_st(sents)\n",
        "    for sent in doc.sentences:\n",
        "        for word in sent.words:\n",
        "            tokens.append(word.text)\n",
        "            POS.append(word.upos)"
      ]
    },
    {
      "cell_type": "code",
      "execution_count": null,
      "metadata": {
        "colab": {
          "base_uri": "https://localhost:8080/"
        },
        "id": "Oo9tJ7lmKPwE",
        "outputId": "fcd34ac9-f247-4c75-d796-44975613382c"
      },
      "outputs": [
        {
          "data": {
            "text/plain": [
              "359"
            ]
          },
          "execution_count": 11,
          "metadata": {},
          "output_type": "execute_result"
        }
      ],
      "source": [
        "Stenza_result = pd.DataFrame({'Token': tokens, 'POS': POS})\n",
        "len(Stenza_result)"
      ]
    },
    {
      "cell_type": "markdown",
      "metadata": {
        "id": "VavRInblWX_F"
      },
      "source": [
        "Обработаем наши предложения с помощью SpaCy:"
      ]
    },
    {
      "cell_type": "code",
      "execution_count": null,
      "metadata": {
        "id": "folToyb1Wb-f"
      },
      "outputs": [],
      "source": [
        "tokens = []\n",
        "POS = []\n",
        "for sentes in text_list:\n",
        "    doc = nlp(sentes)\n",
        "    for token in doc:\n",
        "        tokens.append(str(token.text))\n",
        "        POS.append(str(token.pos_))"
      ]
    },
    {
      "cell_type": "code",
      "execution_count": null,
      "metadata": {
        "colab": {
          "base_uri": "https://localhost:8080/"
        },
        "id": "S2HM8NgFX6Ro",
        "outputId": "6eec7891-fb96-4a46-c52e-8b30ee1bd47f"
      },
      "outputs": [
        {
          "data": {
            "text/plain": [
              "359"
            ]
          },
          "execution_count": 13,
          "metadata": {},
          "output_type": "execute_result"
        }
      ],
      "source": [
        "Spacy_result = pd.DataFrame({'Token': tokens, 'POS': POS})\n",
        "len(Spacy_result)"
      ]
    },
    {
      "cell_type": "markdown",
      "metadata": {
        "id": "-gBhzf81Zasc"
      },
      "source": [
        "Теперь у нас есть четыре датафрейма со четырьмя разметками!"
      ]
    },
    {
      "cell_type": "markdown",
      "metadata": {
        "id": "mn7g_stnZl7L"
      },
      "source": [
        "`[In]: (2 балла) Затем оценим accuracy для каждого теггера. Заметьте, что в разных системах имена тегов и части речи могут отличаться, – вам надо будет свести это всё к единому стандарту с помощью какой-то функции-конвертера и сравнить с вашим размеченным руками эталоном - тоже с помощью какого-то кода или функции.`"
      ]
    },
    {
      "cell_type": "markdown",
      "metadata": {
        "id": "u5H0lH5FZ6WL"
      },
      "source": [
        "`[Out]:` Теперь перейдем к состязательной части нашего мероприятия. Поскольку все три участника используют для разметки UD, нам ничего ни к чему приводить не надо. Вместо этого напишем функцию, которая сравнит наши списки тегов.\n",
        "\n",
        "Кажется, токенизация прошла по плану: во всяком случае, количество токенов везде совпадает. Но давайте проверим это с помощью вот такого куска кода, который выплюнет нам пару токенов, если они не одинаковы:"
      ]
    },
    {
      "cell_type": "code",
      "execution_count": null,
      "metadata": {
        "id": "Sz5AlCYUe-Bz"
      },
      "outputs": [],
      "source": [
        "def compare_tokens (cont1, cont2):\n",
        "    for k in range (359):\n",
        "        if cont1['Token'][k] != cont2['Token'][k]:\n",
        "            print(cont1['Token'][k], cont2['Token'][k])"
      ]
    },
    {
      "cell_type": "code",
      "execution_count": null,
      "metadata": {
        "colab": {
          "base_uri": "https://localhost:8080/"
        },
        "id": "36A3dYV_a6qZ",
        "outputId": "69e8dcd8-7a29-4284-8fb3-bef8bb9a5d66"
      },
      "outputs": [
        {
          "name": "stdout",
          "output_type": "stream",
          "text": [
            "result_1\n",
            "... .\n",
            "result_2\n",
            "... .\n",
            "result_3\n",
            "... .\n"
          ]
        }
      ],
      "source": [
        "print('result_1')\n",
        "compare_tokens(ideal, UDP_result)\n",
        "print('result_2')\n",
        "compare_tokens(ideal, Stenza_result)\n",
        "print('result_3')\n",
        "compare_tokens(ideal, Spacy_result)"
      ]
    },
    {
      "cell_type": "markdown",
      "metadata": {
        "id": "mbfkPtgKgGJk"
      },
      "source": [
        "Итак, можем сделать наблюдение о том, что UDP и Stenza не размечают многоточие как один токен - но это очень маленькая разница, думаю, ее можно не считать.\n",
        "\n",
        "А теперь перейдем к сути. Для подсчета используем ту самую многострадальную Accuracy, импортированную ранее. Перед этим конвертируем все списки POS из Series в списки:"
      ]
    },
    {
      "cell_type": "code",
      "execution_count": null,
      "metadata": {
        "id": "t88j8W9okLFW"
      },
      "outputs": [],
      "source": [
        "pos_UDP = UDP_result['POS'].to_list()\n",
        "pos_Stenza = Stenza_result['POS'].to_list()\n",
        "pos_Spacy = Spacy_result['POS'].to_list()"
      ]
    },
    {
      "cell_type": "markdown",
      "metadata": {
        "id": "3GeN-jNblqL2"
      },
      "source": [
        "\\*барабанная дробь\\*"
      ]
    },
    {
      "cell_type": "code",
      "execution_count": null,
      "metadata": {
        "colab": {
          "base_uri": "https://localhost:8080/"
        },
        "id": "PS537dCFjO41",
        "outputId": "91443e3e-5f70-4dc0-9917-8a69bf144450"
      },
      "outputs": [
        {
          "data": {
            "text/plain": [
              "0.8384401114206128"
            ]
          },
          "execution_count": 17,
          "metadata": {},
          "output_type": "execute_result"
        }
      ],
      "source": [
        "accuracy_score(pos_ideal, pos_UDP)"
      ]
    },
    {
      "cell_type": "code",
      "execution_count": null,
      "metadata": {
        "colab": {
          "base_uri": "https://localhost:8080/"
        },
        "id": "lDyTmUvqlgW8",
        "outputId": "30c83365-f9e7-49e1-dd93-70702a76416e"
      },
      "outputs": [
        {
          "data": {
            "text/plain": [
              "0.8802228412256268"
            ]
          },
          "execution_count": 18,
          "metadata": {},
          "output_type": "execute_result"
        }
      ],
      "source": [
        "accuracy_score(pos_ideal, pos_Stenza)"
      ]
    },
    {
      "cell_type": "code",
      "execution_count": null,
      "metadata": {
        "colab": {
          "base_uri": "https://localhost:8080/"
        },
        "id": "u5pirEgYlvFf",
        "outputId": "ec3d7c8a-658a-4c67-b8ab-5de5cc775283"
      },
      "outputs": [
        {
          "data": {
            "text/plain": [
              "0.871866295264624"
            ]
          },
          "execution_count": 19,
          "metadata": {},
          "output_type": "execute_result"
        }
      ],
      "source": [
        "accuracy_score(pos_ideal, pos_Spacy)"
      ]
    },
    {
      "cell_type": "markdown",
      "metadata": {
        "id": "6AcNKws6l0Ja"
      },
      "source": [
        "ПУНЬ-ПУРУРУУУНЬ!!! И НАШ ПОБЕДИТЕЛЬ - STENZA!!!\n",
        "\n",
        "Давайте теперь посмотрим, что случилось внутри, и в чем именно состоят наши отличия с разными парсерами.\n",
        "\n",
        "Воспользуемся функцией, очень похожей на прошлую:"
      ]
    },
    {
      "cell_type": "code",
      "execution_count": null,
      "metadata": {
        "id": "Be2Yx5ZYgajr"
      },
      "outputs": [],
      "source": [
        "def compare_tokens_POS (cont1, cont2):\n",
        "    for k in range (359):\n",
        "        if cont1['POS'][k] != cont2['POS'][k]:\n",
        "            print(cont1['Token'][k], cont1['POS'][k], cont2['Token'][k], cont2['POS'][k])"
      ]
    },
    {
      "cell_type": "markdown",
      "metadata": {
        "id": "qhsxPTDf4SiG"
      },
      "source": [
        " - UDPipe:"
      ]
    },
    {
      "cell_type": "code",
      "execution_count": null,
      "metadata": {
        "colab": {
          "base_uri": "https://localhost:8080/"
        },
        "id": "_bXQjbr4gmRJ",
        "outputId": "d85292f2-ae3c-4938-e35f-edbe7f3d23d8"
      },
      "outputs": [
        {
          "name": "stdout",
          "output_type": "stream",
          "text": [
            "result_1\n",
            "сама DET сама ADJ\n",
            "пока SCONJ пока NOUN\n",
            "этом DET этом PRON\n",
            "известные DADJ известные ADJ\n",
            "весь PRON весь DET\n",
            "Броневой PROPN Броневой ADJ\n",
            "адекватны ADJ адекватны NOUN\n",
            "зря ADV зря VERB\n",
            "Шелленберга PROPN Шелленберга NOUN\n",
            "благодарили VERB благодарили CCONJ\n",
            "то ADP то PRON\n",
            "как PART как ADP\n",
            "чем PRON чем ADP\n",
            "весь PRON весь DET\n",
            "пустовала VERB пустовала NOUN\n",
            "одни DET одни NOUN\n",
            "да CCONJ да PROPN\n",
            "винегрет NOUN винегрет VERB\n",
            "что PRON что SCONJ\n",
            "вряд PART вряд ADV\n",
            "парикмахерская NOUN парикмахерская ADJ\n",
            "прачечная NOUN прачечная ADJ\n",
            "тоже PART тоже CCONJ\n",
            "5 NUM 5 ADV\n",
            "что PRON что SCONJ\n",
            "этим DET этим PRON\n",
            "ели NOUN ели VERB\n",
            "мало ADV мало NUM\n",
            "Летом ADV Летом NOUN\n",
            "основном ADJ основном NOUN\n",
            "днем ADV днем NOUN\n",
            "утром ADV утром NOUN\n",
            "вечером ADV вечером NOUN\n",
            "суши VERB суши NOUN\n",
            "работающем VERB работающем ADJ\n",
            "Мне PRON Мне ADV\n",
            "больше ADJ больше ADV\n",
            "чем PRON чем ADP\n",
            "тупо PART тупо NOUN\n",
            "Сидеть VERB Сидеть PROPN\n",
            "тупо PART тупо CCONJ\n",
            "это DET это PRON\n",
            "Прямо PART Прямо ADV\n",
            "сам DET сам ADJ\n",
            "почему ADV почему NOUN\n",
            "которое ADJ которое PRON\n",
            "некоторым ADJ некоторым DET\n",
            "принесший VERB принесший ADJ\n",
            "одни DET одни NOUN\n",
            "приятно ADV приятно VERB\n",
            "что PRON что SCONJ\n",
            "Известен VERB Известен ADJ\n",
            "еще PART еще ADV\n",
            "понимаешь VERB понимаешь NOUN\n",
            "какой PRON какой DET\n",
            "каждый ADJ каждый DET\n",
            "пероно ADJ пероно PRON\n",
            "многих ADJ многих NUM\n"
          ]
        }
      ],
      "source": [
        "print('result_1')\n",
        "compare_tokens_POS(ideal, UDP_result)"
      ]
    },
    {
      "cell_type": "markdown",
      "metadata": {
        "id": "SryzDCyLmWLY"
      },
      "source": [
        "Итак, приведем несколько самых интересных наблюдений:\n",
        "\n",
        " - \"Пока\" не парсится как союз - воспринимается только как существительное.\n",
        " - Имена собственные не распознаются.\n",
        " - Грамматикализованные из наречий частицы (типа тупо, прямо) распознаются неправильно\n",
        " - Плохо парсятся нестандартные местоимения (мне = ADV)\n",
        " - Контекст при употреблении нестандартных слов не учитывается (пероно явно в контексте \"хорошо\"/\"плохо\" парсится как местоимение)\n",
        " - Много просто немотивированных некорректных разборов: понимаешь_NOUN, Сидеть_PROPN, тупо_SCONJ\n",
        " - Он повелся на ели и разметил их как глагол, когда это существительное!\n"
      ]
    },
    {
      "cell_type": "markdown",
      "metadata": {
        "id": "MDJ_j5XB4Wdq"
      },
      "source": [
        " - Stanza"
      ]
    },
    {
      "cell_type": "code",
      "execution_count": null,
      "metadata": {
        "colab": {
          "base_uri": "https://localhost:8080/"
        },
        "id": "hEGqAWoOmTp6",
        "outputId": "17f78366-e308-4e1d-fbdd-f5444d1472ab"
      },
      "outputs": [
        {
          "name": "stdout",
          "output_type": "stream",
          "text": [
            "result_2\n",
            "сама DET сама ADJ\n",
            "пока SCONJ пока ADV\n",
            "этом DET этом PRON\n",
            "известные DADJ известные ADJ\n",
            "весь PRON весь DET\n",
            "то ADP то PRON\n",
            "как PART как SCONJ\n",
            "их PRON их DET\n",
            "Летучий PROPN Летучий ADJ\n",
            "весь PRON весь DET\n",
            "Понятно ADV Понятно ADJ\n",
            "что PRON что SCONJ\n",
            "вряд PART вряд ADV\n",
            "хоть PART хоть ADV\n",
            "парикмахерская NOUN парикмахерская ADJ\n",
            "прачечная NOUN прачечная ADJ\n",
            "что PRON что SCONJ\n",
            "ели NOUN ели VERB\n",
            "Летом ADV Летом NOUN\n",
            "днем ADV днем NOUN\n",
            "утром ADV утром NOUN\n",
            "вечером ADV вечером NOUN\n",
            "больше ADJ больше ADV\n",
            "чем PRON чем SCONJ\n",
            "тупо PART тупо ADV\n",
            "тупо PART тупо ADV\n",
            "это DET это PRON\n",
            "Прямо PART Прямо ADV\n",
            "и CCONJ и PART\n",
            "Странно ADV Странно ADJ\n",
            "сам DET сам ADJ\n",
            "которое ADJ которое PRON\n",
            "бы PART бы AUX\n",
            "некоторым ADJ некоторым DET\n",
            "приятно ADV приятно ADJ\n",
            "что PRON что SCONJ\n",
            "Известен VERB Известен ADJ\n",
            "еще PART еще ADV\n",
            "поющий VERB поющий ADJ\n",
            "какой PRON какой DET\n",
            "каждый ADJ каждый DET\n",
            "пероно ADJ пероно NOUN\n",
            "многих ADJ многих NUM\n"
          ]
        }
      ],
      "source": [
        "print('result_2')\n",
        "compare_tokens_POS(ideal, Stenza_result)"
      ]
    },
    {
      "cell_type": "markdown",
      "metadata": {
        "id": "QE4o8pThqL_o"
      },
      "source": [
        "- \"Пока\" достаточно обоснованно парсится как наречие - его можно интерпретировать как союзное значение, что-то типа \"сейчас\".\n",
        "- Незнакомые имена собственные с suggestive окончаниями парсятся по окончаниям (ср. Летучий)\n",
        "- Менее частотные существительные-конверсивы парсятся как прилагательные (парикмахерская, прачечная)\n",
        "- Причастия парсятся как прилагательные - глагол не отец :с\n",
        "- А вот деепричастиям он отец!!\n",
        "- Грамматикализованные из наречий частицы (типа тупо, прямо) распознаются как наречия\n",
        "- Интересный подход к выделению NUM: многих выделяется, несмотря на грамматическое поведение прилагательного."
      ]
    },
    {
      "cell_type": "markdown",
      "metadata": {
        "id": "9BF7fiJG4apt"
      },
      "source": [
        "- SpaCy"
      ]
    },
    {
      "cell_type": "code",
      "execution_count": null,
      "metadata": {
        "colab": {
          "base_uri": "https://localhost:8080/"
        },
        "id": "Su1Z9IRymxKB",
        "outputId": "60cd70cb-b865-46e1-9212-37607c68cec9"
      },
      "outputs": [
        {
          "name": "stdout",
          "output_type": "stream",
          "text": [
            "result_3\n",
            "сама DET сама ADJ\n",
            "пока SCONJ пока ADV\n",
            "этом DET этом PRON\n",
            "известные DADJ известные ADJ\n",
            "весь PRON весь DET\n",
            "то ADP то PRON\n",
            "как PART как SCONJ\n",
            "их PRON их DET\n",
            "весь PRON весь DET\n",
            "Столовая NOUN Столовая ADJ\n",
            "неработающая ADJ неработающая VERB\n",
            "Понятно ADV Понятно ADJ\n",
            "что PRON что SCONJ\n",
            "вряд PART вряд ADV\n",
            "хоть PART хоть ADV\n",
            "парикмахерская NOUN парикмахерская ADJ\n",
            "тоже PART тоже ADV\n",
            "- PUNCT - NUM\n",
            "друг NOUN друг PRON\n",
            "друга NOUN друга PRON\n",
            "что PRON что SCONJ\n",
            "ели NOUN ели VERB\n",
            "Летом ADV Летом NOUN\n",
            "днем ADV днем NOUN\n",
            "утром ADV утром NOUN\n",
            "вечером ADV вечером NOUN\n",
            "суши VERB суши NOUN\n",
            "больше ADJ больше ADV\n",
            "чем PRON чем SCONJ\n",
            "тупо PART тупо ADV\n",
            "тупо PART тупо ADV\n",
            "это DET это PART\n",
            "Прямо PART Прямо ADV\n",
            "сам DET сам ADJ\n",
            "которое ADJ которое PRON\n",
            "бы PART бы AUX\n",
            "некоторым ADJ некоторым DET\n",
            "приятно ADV приятно ADJ\n",
            "что PRON что SCONJ\n",
            "Известен VERB Известен ADJ\n",
            "еще PART еще ADV\n",
            "какой PRON какой DET\n",
            "каждый ADJ каждый DET\n",
            "кукаляку NOUN кукаляку PROPN\n",
            "пероно ADJ пероно NOUN\n",
            "многих ADJ многих NUM\n"
          ]
        }
      ],
      "source": [
        "print('result_3')\n",
        "compare_tokens_POS(ideal, Spacy_result)"
      ]
    },
    {
      "cell_type": "markdown",
      "metadata": {
        "id": "Lq3flUSoqNFb"
      },
      "source": [
        " - \"Пока\" парсится так же, как в предыдущих случаях\n",
        " - Корректно распознаются suggestive имена собственные!\n",
        " - Конверсивы парсятся как прилагательные\n",
        " - Не различает частицу бы и форму глагола быть\n",
        " - Видит друг от друга, видимо, как одно местоимение\n",
        " - Придуманные слова корректно не парсятся\n",
        " - Летом, днем, утром - существительные, а не наречия (решение может считаться правильным, но интересно, что его привел только спейси)\n",
        " - Связь между \"большой\" и \"больше\" разрывается: больше - наречие (очень интересное решение, особенно в контексте предыдущего пункта)\n",
        " - Грамматикализованные из наречий частицы (типа тупо, прямо) распознаются как наречия\n",
        " - причастия и деепричастия - формы глагола!"
      ]
    },
    {
      "cell_type": "markdown",
      "metadata": {
        "id": "jAPTgahn5YBV"
      },
      "source": [
        "Итак, видим, что у каждого теггера есть свои сильные и слабые стороны, плюсы и минусы. Но победителем из нашей кровавой бани вышла Stanza!"
      ]
    },
    {
      "cell_type": "markdown",
      "metadata": {
        "id": "_32pPOSRqSyv"
      },
      "source": [
        "`[In]: (4 балла) Дальше вам нужно взять лучший теггер для русского языка и с его помощью написать функцию (chunker), которая выделяет из размеченного текста 3 типа n-грамм, соответствующих какому-то шаблону (к примеру не + какая-то часть речи или NP или сущ.+ наречие и тд) В предыдущем дз многие из вас справедливо заметили, что если бы мы могли класть в словарь не только отдельные слова, но и словосочетания, то программа работала бы лучше. Предложите 3 шаблона (слово + POS-тег / POS-тег + POS-тег) запись которых в словарь, по вашему мнению, улучшила бы качество работы программы из предыдущей домашки. Балл за объяснение того, почему именно эти группы вы взяли, балл за создание такого рода чанкера, балл за за встраивание функции в программу из предыдущей домашки, балл за сравнение качества предсказания тональности с улучшением и без.`"
      ]
    },
    {
      "cell_type": "markdown",
      "metadata": {
        "id": "56-Scxcj5o7e"
      },
      "source": [
        "`> import hw1_fin.ipynb`\n",
        "\n",
        "Посмотрим... Какие шаблоны мы можем придумать для того, чтобы анализировать более осмысленные словосочетания? В голову приходят такие идеи:\n",
        "\n",
        " - ADJ + NOUN\n",
        " - ADV + VERB\n",
        " - не + ADJ\n",
        " - не + ADV\n",
        " - ADV + ADJ\n",
        "\n",
        "\n",
        " Выберем именно эти комбинации, руководствуясь следующей логикой. Коль скоро в прошлом домашнем задании мы пытались выяснить, как пользователь оценивает фильм, было бы полезно найти именно оценочные слова. Для того, чтобы поймать именно их, будем записывать первые две группы: это поможет нам ловить ИГ типа \"хороший фильм\", \"хорошо снято\", потому что, если рядом появляются прилагательное и существительное или наречие и глагол, очень высокая вероятность того, что прилагательное/наречие характеризуют последующее существительное/глагол.\n",
        "\n",
        " Из тех же соображений будем записывать группы с \"не\": из-за особенностей своей области действия \"не\" будет влиять в первую очередь на непосредственно следующее за ним слово - если это прилагательное или наречие, такой шаблон, вероятно, будет маскировать группы с оценочной лексикой: \"не хороший\", \"не плохой\", \"не безнадежен\". А эти группы достаточно однозначно будут распределяться по положительному и отрицательному сентименту. Более того, есть вероятность, что эти группы будут работать лучше, чем предыдущие две - потому что они более униформны. Если предыдущие шаблоны могут поймать нерелеватные ИГ, то тут из-за специфики употребления прилагательных в речи и из-за специфи ки частицы \"не\", которая с большей вероятностью окажется не в теме, а в реме, будет чаще нести в себе суждение автора.\n",
        "\n",
        " Последний шаблон тоже может выловить нам нерелевантного, но также он позволит нам поймать случаи, когда интенсификатор типа \"очень\" предваряет прилагательное: то есть, этот шаблон будет нам ловить группы в стиле \"очень хороший\", \"очень плохой\"."
      ]
    },
    {
      "cell_type": "markdown",
      "metadata": {
        "id": "D5EI_krwFcpn"
      },
      "source": [
        "Теперь напишем, собственно, функцию - чанкер."
      ]
    },
    {
      "cell_type": "code",
      "execution_count": null,
      "metadata": {
        "id": "kwcqtos4FjOS"
      },
      "outputs": [],
      "source": [
        "def chunker (text):\n",
        "    pattern_one = []\n",
        "    pattern_two = []\n",
        "    pattern_three = []\n",
        "    pattern_four = []\n",
        "    pattern_five = []\n",
        "    prev = []\n",
        "    doc = nlp_st(text)\n",
        "    for sent in doc.sentences:\n",
        "        for word in sent.words:\n",
        "            if 'ADJ' in prev and word.upos == 'NOUN':\n",
        "                pattern_one.append(prev[0] + ' ' + word.text)\n",
        "            if 'ADV' in prev and word.upos == 'NOUN':\n",
        "                pattern_two.append(prev[0] + ' ' + word.text)\n",
        "            if 'не' in prev and word.upos == 'ADJ':\n",
        "                pattern_three.append(prev[0] + ' ' + word.text)\n",
        "            if 'не' in prev and word.upos == 'ADV':\n",
        "                pattern_four.append(prev[0] + ' ' + word.text)\n",
        "            if 'ADV' in prev and word.upos == 'ADJ':\n",
        "                pattern_five.append(prev[0] + ' ' + word.text)\n",
        "            if len(prev) == 0:\n",
        "                prev.append(word.text)\n",
        "                prev.append(word.upos)\n",
        "            if len(prev) != 0:\n",
        "                prev = []\n",
        "                prev.append(word.text)\n",
        "                prev.append(word.upos)\n",
        "    return pattern_one, pattern_two, pattern_three, pattern_four, pattern_five\n"
      ]
    },
    {
      "cell_type": "markdown",
      "metadata": {
        "id": "zFATc9i4Qsd5"
      },
      "source": [
        "Теперь принесем и исполним весь код, который генерировал нам рецензии и базовое оценивание:"
      ]
    },
    {
      "cell_type": "code",
      "execution_count": null,
      "metadata": {
        "id": "ctfOD6ltnL17"
      },
      "outputs": [],
      "source": [
        "session = requests.session()\n",
        "ua = UserAgent(browsers = [\"chrome\", \"edge\", \"firefox\", \"safari\"])\n",
        "adapter = requests.adapters.HTTPAdapter(pool_connections=100, pool_maxsize=10)\n",
        "session.mount('https://', adapter)"
      ]
    },
    {
      "cell_type": "code",
      "execution_count": null,
      "metadata": {
        "id": "NoRf7i1rnPIw"
      },
      "outputs": [],
      "source": [
        "def get_good_bad_reviews(url):\n",
        "    positive_all_entries = []\n",
        "    negative_all_entries = []\n",
        "    response = session.get(url, headers={'User-Agent': ua.random})\n",
        "    soup = BeautifulSoup(response.text, 'html.parser')\n",
        "    positive_all_entries = soup.find_all('div', {'class': 'response good'})\n",
        "    negative_all_entries = soup.find_all('div', {'class': 'response bad'})\n",
        "    return positive_all_entries, negative_all_entries"
      ]
    },
    {
      "cell_type": "code",
      "execution_count": null,
      "metadata": {
        "id": "-rHa6iFNnQdW"
      },
      "outputs": [],
      "source": [
        "url_working = [\"https://www.kinopoisk.ru/film/401177/reviews/ord/date/status/all/perpage/200/\"]"
      ]
    },
    {
      "cell_type": "code",
      "execution_count": null,
      "metadata": {
        "id": "VSO9Fl3hnSrS"
      },
      "outputs": [],
      "source": [
        "pos_list = []\n",
        "neg_list = []\n",
        "control = []\n",
        "for link in url_working:\n",
        "    pair = get_good_bad_reviews(link)\n",
        "    pos_list.append(pair[0])\n",
        "    neg_list.append(pair[1])"
      ]
    },
    {
      "cell_type": "code",
      "execution_count": null,
      "metadata": {
        "id": "LAmD6FDCnUV-"
      },
      "outputs": [],
      "source": [
        "pos_parse = list(itertools.chain.from_iterable(pos_list))\n",
        "neg_parse = list(itertools.chain.from_iterable(neg_list))"
      ]
    },
    {
      "cell_type": "code",
      "execution_count": null,
      "metadata": {
        "id": "ln5NqIqBnYIt"
      },
      "outputs": [],
      "source": [
        "control_parse = {}\n",
        "for revieows in pos_parse[60:76]:\n",
        "    control_parse[revieows] = 'Positive'\n",
        "del pos_parse[60:76]\n",
        "for revieows in neg_parse[60:77]:\n",
        "    control_parse[revieows] = 'Negative'\n",
        "del neg_parse[60:77]"
      ]
    },
    {
      "cell_type": "code",
      "execution_count": null,
      "metadata": {
        "colab": {
          "base_uri": "https://localhost:8080/"
        },
        "id": "zKyMt50Vfh34",
        "outputId": "023ac7b7-6b97-4af7-c7e3-8d74b3544580"
      },
      "outputs": [
        {
          "name": "stderr",
          "output_type": "stream",
          "text": [
            "Installing mystem to /root/.local/bin/mystem from http://download.cdn.yandex.net/mystem/mystem-3.1-linux-64bit.tar.gz\n"
          ]
        }
      ],
      "source": [
        "mystem = Mystem()\n",
        "russian_stopwords = stopwords.words(\"russian\")"
      ]
    },
    {
      "cell_type": "code",
      "execution_count": null,
      "metadata": {
        "id": "jKuhVYbIcV6w"
      },
      "outputs": [],
      "source": [
        "def process_review(review_soup, print_text):\n",
        "    word_list = []\n",
        "    review = str(review_soup.text)\n",
        "    review = review[review.find('звёзды')+6:review.rfind('прямая ссылка')]\n",
        "    review = review.strip()\n",
        "    review = review.replace('\\n', ' ')\n",
        "    review = review.replace('\\r', '')\n",
        "    if print_text == 1:\n",
        "        return review\n",
        "    if print_text == 0:\n",
        "        review = mystem.lemmatize(review.lower())\n",
        "        for token in review:\n",
        "            token = token.replace(' ', '')\n",
        "            if token != ' ' and token not in russian_stopwords and token not in punctuation:\n",
        "                word_list.append(token)\n",
        "        return word_list"
      ]
    },
    {
      "cell_type": "markdown",
      "metadata": {
        "id": "_Hycvljvrxys"
      },
      "source": [
        "Внесем первое изменение в код: запишем текст reviews в отдельные списки (не зря в прошлый раз сделала выход текстов!)"
      ]
    },
    {
      "cell_type": "code",
      "execution_count": null,
      "metadata": {
        "id": "5Qu4lkMDfrDp"
      },
      "outputs": [],
      "source": [
        "pos_words = []\n",
        "pos_revs = []\n",
        "neg_words = []\n",
        "neg_revs = []\n",
        "for rev_g in pos_parse:\n",
        "    pos_words.append(process_review(rev_g, 0))\n",
        "    pos_revs.append(process_review(rev_g, 1))\n",
        "for rev_n in neg_parse:\n",
        "    neg_words.append(process_review(rev_n, 0))\n",
        "    neg_revs.append(process_review(rev_g, 1))"
      ]
    },
    {
      "cell_type": "markdown",
      "metadata": {
        "id": "d0m5mmmmsY8a"
      },
      "source": [
        "Продолжим как ни в чем не бывало, пока не соберем нормальные списки из единичных частотных слов:"
      ]
    },
    {
      "cell_type": "code",
      "execution_count": null,
      "metadata": {
        "id": "jvnAqTHvgLVO"
      },
      "outputs": [],
      "source": [
        "def set_freq_list(words_list):\n",
        "    words_list = list(itertools.chain.from_iterable(words_list))\n",
        "    freqs = {}\n",
        "    for word in words_list:\n",
        "        freqs[word] = freqs.get(word, 0) + 1\n",
        "    return(freqs)"
      ]
    },
    {
      "cell_type": "code",
      "execution_count": null,
      "metadata": {
        "id": "QCCoQoQ1iY63"
      },
      "outputs": [],
      "source": [
        "pos_freq_words = {}\n",
        "for i in set_freq_list(pos_words).items():\n",
        "    if i[1] > 10:\n",
        "        pos_freq_words[i[0]] = i[1]"
      ]
    },
    {
      "cell_type": "code",
      "execution_count": null,
      "metadata": {
        "id": "h7WvEMXDiayf"
      },
      "outputs": [],
      "source": [
        "neg_freq_words = {}\n",
        "for j in set_freq_list(neg_words).items():\n",
        "    if j[1] > 10:\n",
        "        neg_freq_words[j[0]] = j[1]"
      ]
    },
    {
      "cell_type": "code",
      "execution_count": null,
      "metadata": {
        "id": "vSkIbmMbij93"
      },
      "outputs": [],
      "source": [
        "pos_words_set = set(pos_freq_words.keys())\n",
        "neg_words_set = set(neg_freq_words.keys())"
      ]
    },
    {
      "cell_type": "code",
      "execution_count": null,
      "metadata": {
        "id": "-J7dqJD1imNk"
      },
      "outputs": [],
      "source": [
        "pos_test = pos_words_set.difference(neg_words_set)\n",
        "neg_test = neg_words_set.difference(pos_words_set)"
      ]
    },
    {
      "cell_type": "markdown",
      "metadata": {
        "id": "M4AY_jb-sk-I"
      },
      "source": [
        "Теперь вернемся к нашим спискам reviews - и прогоним их через наш чанкер."
      ]
    },
    {
      "cell_type": "code",
      "execution_count": null,
      "metadata": {
        "colab": {
          "background_save": true
        },
        "id": "oCQQNBsksst6"
      },
      "outputs": [],
      "source": [
        "pos_phrases = []\n",
        "for otsyv in pos_revs:\n",
        "    for spisok in chunker(otsyv):\n",
        "        for bigram in spisok:\n",
        "            pos_phrases.append(bigram)\n",
        "neg_phrases = []\n",
        "for otsyv in neg_revs:\n",
        "    for spisok in chunker(otsyv):\n",
        "        for bigram in spisok:\n",
        "            neg_phrases.append(bigram)"
      ]
    },
    {
      "cell_type": "markdown",
      "metadata": {
        "id": "A7ILmXbGHcE0"
      },
      "source": [
        "Лемматизируем наши списки:"
      ]
    },
    {
      "cell_type": "code",
      "execution_count": null,
      "metadata": {
        "colab": {
          "background_save": true
        },
        "id": "OjM0bN5IA31k"
      },
      "outputs": [],
      "source": [
        "pos_phrase_lemm = []\n",
        "neg_phrase_lemm = []\n",
        "for phrase in pos_phrases:\n",
        "    lemm_phrase = mystem.lemmatize(phrase.lower())\n",
        "    lemm_phrase.pop(-1)\n",
        "    pos_phrase_lemm.append(lemm_phrase[0] + lemm_phrase[1] + lemm_phrase[2])\n",
        "for phrase in neg_phrases:\n",
        "    lemm_phrase = mystem.lemmatize(phrase.lower())\n",
        "    lemm_phrase.pop(-1)\n",
        "    neg_phrase_lemm.append(lemm_phrase[0] + lemm_phrase[1] + lemm_phrase[2])\n",
        "pos_phrase_lemm = set(pos_phrase_lemm)\n",
        "neg_phrase_lemm = set(neg_phrase_lemm)"
      ]
    },
    {
      "cell_type": "markdown",
      "metadata": {
        "id": "Ww0ii1f3HfIS"
      },
      "source": [
        "И добавим их в функцию оценивания. Прогоним сразу несколько вариантов весов."
      ]
    },
    {
      "cell_type": "code",
      "execution_count": null,
      "metadata": {
        "colab": {
          "background_save": true
        },
        "id": "_y2RFrXT_awz"
      },
      "outputs": [],
      "source": [
        "def evaluate_stuff1(rev):\n",
        "    pos_score = 0\n",
        "    neg_score = 0\n",
        "    for slovo in rev:\n",
        "        if slovo in pos_test:\n",
        "            pos_score += 1\n",
        "        if slovo in neg_test:\n",
        "            neg_score += 1\n",
        "    rev = ' '.join(rev)\n",
        "    for exp in pos_phrase_lemm:\n",
        "        if exp in rev and exp not in neg_phrase_lemm:\n",
        "            pos_score += 1\n",
        "    for exp in neg_phrase_lemm:\n",
        "        if exp in rev and exp not in pos_phrase_lemm:\n",
        "            neg_score += 1\n",
        "    if pos_score > neg_score:\n",
        "        return 'Positive'\n",
        "    if neg_score > pos_score:\n",
        "        return 'Negative'\n",
        "    if pos_score == neg_score:\n",
        "        return 'Neutral'"
      ]
    },
    {
      "cell_type": "code",
      "execution_count": null,
      "metadata": {
        "colab": {
          "background_save": true
        },
        "id": "4hT71tDvUTjf"
      },
      "outputs": [],
      "source": [
        "def evaluate_stuff2(rev):\n",
        "    pos_score = 0\n",
        "    neg_score = 0\n",
        "    for slovo in rev:\n",
        "        if slovo in pos_test:\n",
        "            pos_score += 1\n",
        "        if slovo in neg_test:\n",
        "            neg_score += 1\n",
        "    rev = ' '.join(rev)\n",
        "    for exp in pos_phrase_lemm:\n",
        "        if exp in rev and exp not in neg_phrase_lemm:\n",
        "            pos_score += 2\n",
        "    for exp in neg_phrase_lemm:\n",
        "        if exp in rev and exp not in pos_phrase_lemm:\n",
        "            neg_score += 2\n",
        "    if pos_score > neg_score:\n",
        "        return 'Positive'\n",
        "    if neg_score > pos_score:\n",
        "        return 'Negative'\n",
        "    if pos_score == neg_score:\n",
        "        return 'Neutral'"
      ]
    },
    {
      "cell_type": "code",
      "execution_count": null,
      "metadata": {
        "colab": {
          "background_save": true
        },
        "id": "dhx_wVREUVxo"
      },
      "outputs": [],
      "source": [
        "def evaluate_stuff3(rev):\n",
        "    pos_score = 0\n",
        "    neg_score = 0\n",
        "    for slovo in rev:\n",
        "        if slovo in pos_test:\n",
        "            pos_score += 1\n",
        "        if slovo in neg_test:\n",
        "            neg_score += 1\n",
        "    rev = ' '.join(rev)\n",
        "    for exp in pos_phrase_lemm:\n",
        "        if exp in rev and exp not in neg_phrase_lemm:\n",
        "            pos_score += 3\n",
        "    for exp in neg_phrase_lemm:\n",
        "        if exp in rev and exp not in pos_phrase_lemm:\n",
        "            neg_score += 3\n",
        "    if pos_score > neg_score:\n",
        "        return 'Positive'\n",
        "    if neg_score > pos_score:\n",
        "        return 'Negative'\n",
        "    if pos_score == neg_score:\n",
        "        return 'Neutral'"
      ]
    },
    {
      "cell_type": "markdown",
      "metadata": {
        "id": "R5t7e2qOW8V3"
      },
      "source": [
        "(а это оригинальная функция)"
      ]
    },
    {
      "cell_type": "code",
      "execution_count": null,
      "metadata": {
        "colab": {
          "background_save": true
        },
        "id": "jPb9s2WBVlAU"
      },
      "outputs": [],
      "source": [
        "def evaluate_stuff(rev):\n",
        "    pos_score = 0\n",
        "    neg_score = 0\n",
        "    for slovo in rev:\n",
        "        if slovo in pos_test:\n",
        "            pos_score += 1\n",
        "        if slovo in neg_test:\n",
        "            neg_score += 1\n",
        "    if pos_score > neg_score:\n",
        "        return 'Positive'\n",
        "    if neg_score > pos_score:\n",
        "        return 'Negative'\n",
        "    if pos_score == neg_score:\n",
        "        return 'Neutral'"
      ]
    },
    {
      "cell_type": "code",
      "execution_count": null,
      "metadata": {
        "colab": {
          "background_save": true
        },
        "id": "x0zPZVdwirCF"
      },
      "outputs": [],
      "source": [
        "test = []\n",
        "for texts in control_parse:\n",
        "    test.append(evaluate_stuff(process_review(texts, 0)))"
      ]
    },
    {
      "cell_type": "code",
      "execution_count": null,
      "metadata": {
        "colab": {
          "background_save": true
        },
        "id": "ZBnForSBizrB",
        "outputId": "c0a066de-c1c5-4850-c93b-394e6ea2f5a9"
      },
      "outputs": [
        {
          "data": {
            "text/plain": [
              "dict_values(['Positive', 'Positive', 'Positive', 'Positive', 'Positive', 'Positive', 'Positive', 'Positive', 'Positive', 'Positive', 'Positive', 'Positive', 'Positive', 'Positive', 'Positive', 'Negative', 'Negative', 'Negative', 'Negative', 'Negative', 'Negative', 'Negative', 'Negative', 'Negative', 'Negative', 'Negative', 'Negative', 'Negative', 'Negative', 'Negative', 'Negative'])"
            ]
          },
          "execution_count": 46,
          "metadata": {},
          "output_type": "execute_result"
        }
      ],
      "source": [
        "true = control_parse.values()\n",
        "true"
      ]
    },
    {
      "cell_type": "markdown",
      "metadata": {
        "id": "oHp6XDFIxtAx"
      },
      "source": [
        "Вот ячейка с нашим прежним accuracy_score:"
      ]
    },
    {
      "cell_type": "code",
      "execution_count": null,
      "metadata": {
        "colab": {
          "background_save": true
        },
        "id": "I1-YjzXziwgU",
        "outputId": "a858f15a-ae50-408e-a8c5-f4ad8189cd10"
      },
      "outputs": [
        {
          "data": {
            "text/plain": [
              "0.7419354838709677"
            ]
          },
          "execution_count": 47,
          "metadata": {},
          "output_type": "execute_result"
        }
      ],
      "source": [
        "accuracy_score(list(true), test)"
      ]
    },
    {
      "cell_type": "markdown",
      "metadata": {
        "id": "5gqWb7WRxyo4"
      },
      "source": [
        "Теперь мы имеем:"
      ]
    },
    {
      "cell_type": "code",
      "execution_count": null,
      "metadata": {
        "colab": {
          "background_save": true
        },
        "id": "GgFF2OgbnqVb"
      },
      "outputs": [],
      "source": [
        "test_1 = []\n",
        "test_2 = []\n",
        "test_3 = []\n",
        "for texty in control_parse:\n",
        "    test_1.append(evaluate_stuff1(process_review(texty, 0)))\n",
        "    test_2.append(evaluate_stuff2(process_review(texty, 0)))\n",
        "    test_3.append(evaluate_stuff3(process_review(texty, 0)))"
      ]
    },
    {
      "cell_type": "code",
      "execution_count": null,
      "metadata": {
        "colab": {
          "background_save": true
        },
        "id": "TQzOYq0V9w33",
        "outputId": "8816b1ca-fff7-4d6f-801e-61da5302e423"
      },
      "outputs": [
        {
          "name": "stdout",
          "output_type": "stream",
          "text": [
            "0.5161290322580645\n",
            "0.4838709677419355\n",
            "0.4838709677419355\n"
          ]
        }
      ],
      "source": [
        "print(accuracy_score(list(true), test_1))\n",
        "print(accuracy_score(list(true), test_2))\n",
        "print(accuracy_score(list(true), test_3))"
      ]
    },
    {
      "cell_type": "markdown",
      "metadata": {
        "id": "pkfkR80tWDvk"
      },
      "source": [
        "Видим, что результаты пока не очень радуют. Проверим, в чем дело:"
      ]
    },
    {
      "cell_type": "code",
      "execution_count": null,
      "metadata": {
        "colab": {
          "background_save": true
        },
        "id": "OaMcpLWiAuEP",
        "outputId": "4c41b902-a281-433b-9820-f8e965595528"
      },
      "outputs": [
        {
          "data": {
            "text/plain": [
              "['Positive',\n",
              " 'Positive',\n",
              " 'Positive',\n",
              " 'Positive',\n",
              " 'Positive',\n",
              " 'Positive',\n",
              " 'Positive',\n",
              " 'Positive',\n",
              " 'Positive',\n",
              " 'Positive',\n",
              " 'Positive',\n",
              " 'Positive',\n",
              " 'Positive',\n",
              " 'Positive',\n",
              " 'Positive',\n",
              " 'Neutral',\n",
              " 'Negative',\n",
              " 'Neutral',\n",
              " 'Negative',\n",
              " 'Positive',\n",
              " 'Negative',\n",
              " 'Positive',\n",
              " 'Neutral',\n",
              " 'Negative',\n",
              " 'Negative',\n",
              " 'Positive',\n",
              " 'Negative',\n",
              " 'Positive',\n",
              " 'Negative',\n",
              " 'Negative',\n",
              " 'Positive']"
            ]
          },
          "execution_count": 50,
          "metadata": {},
          "output_type": "execute_result"
        }
      ],
      "source": [
        "test"
      ]
    },
    {
      "cell_type": "code",
      "execution_count": null,
      "metadata": {
        "colab": {
          "background_save": true
        },
        "id": "KwhQADICVdiS",
        "outputId": "487fbe26-bb8e-44ea-f864-a0f5ba6da856"
      },
      "outputs": [
        {
          "data": {
            "text/plain": [
              "['Positive',\n",
              " 'Positive',\n",
              " 'Positive',\n",
              " 'Positive',\n",
              " 'Positive',\n",
              " 'Positive',\n",
              " 'Positive',\n",
              " 'Positive',\n",
              " 'Positive',\n",
              " 'Positive',\n",
              " 'Positive',\n",
              " 'Positive',\n",
              " 'Positive',\n",
              " 'Positive',\n",
              " 'Positive',\n",
              " 'Positive',\n",
              " 'Positive',\n",
              " 'Positive',\n",
              " 'Positive',\n",
              " 'Positive',\n",
              " 'Positive',\n",
              " 'Positive',\n",
              " 'Positive',\n",
              " 'Neutral',\n",
              " 'Positive',\n",
              " 'Positive',\n",
              " 'Positive',\n",
              " 'Positive',\n",
              " 'Negative',\n",
              " 'Positive',\n",
              " 'Positive']"
            ]
          },
          "execution_count": 51,
          "metadata": {},
          "output_type": "execute_result"
        }
      ],
      "source": [
        "test_1"
      ]
    },
    {
      "cell_type": "markdown",
      "metadata": {
        "id": "50dbpQsZXBva"
      },
      "source": [
        "Видим, что моделька слишком \"заваливается\" в положительную оценку. Попробуем немного поиграть с весами - а попутно проверяем еще одну гипотезу, добавляя в вывод маркер:"
      ]
    },
    {
      "cell_type": "code",
      "execution_count": null,
      "metadata": {
        "colab": {
          "background_save": true
        },
        "id": "ipdUeTCaWMXj"
      },
      "outputs": [],
      "source": [
        "def evaluate_stuff1(rev):\n",
        "    pos_score = 0\n",
        "    neg_score = 0\n",
        "    for slovo in rev:\n",
        "        if slovo in pos_test:\n",
        "            pos_score += 1\n",
        "        if slovo in neg_test:\n",
        "            neg_score += 1\n",
        "    rev = ' '.join(rev)\n",
        "    for exp in pos_phrase_lemm:\n",
        "        if exp in rev and exp not in neg_phrase_lemm:\n",
        "            pos_score += 1\n",
        "    for exp in neg_phrase_lemm:\n",
        "        if exp in rev and exp not in pos_phrase_lemm:\n",
        "            neg_score += 5\n",
        "            print('+')\n",
        "    if pos_score > neg_score:\n",
        "        return 'Positive'\n",
        "    if neg_score > pos_score:\n",
        "        return 'Negative'\n",
        "    if pos_score == neg_score:\n",
        "        return 'Neutral'"
      ]
    },
    {
      "cell_type": "code",
      "execution_count": null,
      "metadata": {
        "colab": {
          "background_save": true
        },
        "id": "Acw1WcP7XPVN"
      },
      "outputs": [],
      "source": [
        "test_1 = []\n",
        "for texty in control_parse:\n",
        "    test_1.append(evaluate_stuff1(process_review(texty, 0)))"
      ]
    },
    {
      "cell_type": "code",
      "execution_count": null,
      "metadata": {
        "colab": {
          "background_save": true
        },
        "id": "xkU9jmH-XWI5",
        "outputId": "7f1544d7-d2f5-4e46-e635-03c6f396d21e"
      },
      "outputs": [
        {
          "name": "stdout",
          "output_type": "stream",
          "text": [
            "0.5161290322580645\n"
          ]
        }
      ],
      "source": [
        "print(accuracy_score(list(true), test_1))"
      ]
    },
    {
      "cell_type": "markdown",
      "metadata": {
        "id": "5G0Cxh6zY39a"
      },
      "source": [
        "Добавление весов ничего не поменяло - из-за того, что, видимо, все выражения, которые вошли в список `neg_phrase_lemm`, входят также в список `pos_phrase_lemm`. Проверим это отдельным кодом:"
      ]
    },
    {
      "cell_type": "code",
      "execution_count": null,
      "metadata": {
        "colab": {
          "background_save": true
        },
        "id": "mBTNjLAYXwPQ",
        "outputId": "0cf81052-9ed9-4488-ef9d-0c5c5b1d4982"
      },
      "outputs": [
        {
          "data": {
            "text/plain": [
              "76"
            ]
          },
          "execution_count": 55,
          "metadata": {},
          "output_type": "execute_result"
        }
      ],
      "source": [
        "len(neg_phrase_lemm)"
      ]
    },
    {
      "cell_type": "code",
      "execution_count": null,
      "metadata": {
        "colab": {
          "background_save": true
        },
        "id": "tf87Td3Ra3gz"
      },
      "outputs": [],
      "source": [
        "count = 0\n",
        "for phr in neg_phrase_lemm:\n",
        "    if phr not in pos_phrase_lemm:\n",
        "        print(phr)"
      ]
    },
    {
      "cell_type": "code",
      "execution_count": null,
      "metadata": {
        "colab": {
          "background_save": true
        },
        "id": "le-NFxazXsp_",
        "outputId": "bf4055b6-036d-457e-8e04-df9379c2ec42"
      },
      "outputs": [
        {
          "name": "stdout",
          "output_type": "stream",
          "text": [
            "не плохой\n",
            "бурный восторг\n",
            "замечательный работа\n",
            "плохой мальчик\n",
            "крайний мера\n",
            "счастливый жизнь\n",
            "очень красивый\n",
            "немного странный\n",
            "другой сага\n",
            "личный сорт\n",
            "визуальный сторона\n",
            "особенно семейство\n",
            "красный шапочка\n",
            "черный цвет\n",
            "финальный титр\n",
            "глупый девушка\n",
            "целый поколение\n",
            "мощный саундтрек\n",
            "дикий красота\n",
            "веселый вампир\n",
            "ключевой момент\n",
            "стервозный вампирша\n",
            "намного хорошо\n",
            "хороший фильм\n",
            "цветовой гамма\n",
            "еще большой\n",
            "вечно открытый\n",
            "хищный ухмылочка\n",
            "сейчас фанат\n",
            "правдоподобный злодей\n",
            "несомненный плюс\n",
            "мистический пейзаж\n",
            "сам актер\n",
            "не смазливый\n",
            "интересный внешность\n",
            "сам лента\n",
            "не реально\n",
            "очень качественный\n",
            "болезненный выражение\n",
            "сильный атмосфера\n",
            "не сам\n",
            "вампирский сага\n",
            "полезный рецензия\n",
            "вечный оптимизм\n",
            "самый дело\n",
            "одноименный книга\n",
            "бедный овечка\n",
            "вечно болезненный\n",
            "не так\n",
            "немного дикий\n",
            "'сумеречный \n",
            "хороший экранизация\n",
            "достаточно долгий\n",
            "любимый человек\n",
            "больший драматичность\n",
            "идеальный ракурс\n",
            "открывать рот\n",
            "сам гуманность\n",
            "замечательный картинка\n",
            "замечательный режиссура\n",
            "культовый фильм\n",
            "яркий краска\n",
            "иногда успех\n",
            "очень правдоподобный\n",
            "так простой\n",
            "уже спец\n",
            "отдельный спасибо\n",
            "очень сильный\n",
            "массовый помешательство\n",
            "достойный восхищение\n",
            "глупый овечка\n",
            "главный заслуга\n",
            "плохой смерть\n",
            "американский писательница\n",
            "следующий лента\n",
            "актерский состав\n",
            "76\n"
          ]
        }
      ],
      "source": [
        "count = 0\n",
        "for phr in neg_phrase_lemm:\n",
        "    if phr in pos_phrase_lemm:\n",
        "        print(phr)\n",
        "        count +=1\n",
        "print(count)"
      ]
    },
    {
      "cell_type": "markdown",
      "metadata": {
        "id": "9f5y_fj-YE4J"
      },
      "source": [
        "Это вообще как?!"
      ]
    },
    {
      "cell_type": "code",
      "execution_count": null,
      "metadata": {
        "colab": {
          "background_save": true
        },
        "id": "UyqS3jZ1X9Uf",
        "outputId": "ea50fb21-4626-4f4d-a9c0-cfee5da5ff3a"
      },
      "outputs": [
        {
          "data": {
            "text/plain": [
              "1564"
            ]
          },
          "execution_count": 58,
          "metadata": {},
          "output_type": "execute_result"
        }
      ],
      "source": [
        "len(pos_phrase_lemm)"
      ]
    },
    {
      "cell_type": "markdown",
      "metadata": {
        "id": "FLWRryHqYLJv"
      },
      "source": [
        "Ну... при таком соотношении, в принципе, не так удивительно."
      ]
    },
    {
      "cell_type": "markdown",
      "metadata": {
        "id": "W1dlMiY8ZeKL"
      },
      "source": [
        "Итак, можем сделать вывод о том, что для решения задачи классификации отзывов чанкер, к сожалению, не подходит: если внимательнее посмотреть на список словосочетаний в списке `neg_phrase_lemm`, становится ясно, что там вообще-то присутствует достаточно много положительно окрашенных словосочетаний - все из них даже ухитрились войти в список `pos_phrase_lemm`. Тем не менее, это достаточно логично, если учитывать специфику нашего корпуса: дело в том, что в контексте развернутых отзывов на фильмы в контексте того же \"Кинопоиска\" люди вполне себе могут описывать и положительные, и отрицательные стороны одного и того же фильма. Более того, в контексте именно \"Сумерек\" это возводится в некий абсолют, потому что в нашем корпусе 100% есть отзывы содержания: \"актерская игра ужасная, сюжет глупый, но на поржать самое то, а еще режиссерская работа прекрасная, пересматриваю с огромным удовольствием, 10 из 10\". Именно поэтому в данной ситуации наш подход не то что не принесет нам улучшений, а даже ухудшит по качеству всё происходящее. Поэтому вот такие дела...\n"
      ]
    },
    {
      "cell_type": "markdown",
      "metadata": {
        "id": "_EFHOfgra3tW"
      },
      "source": [
        "`[In]: print report`\n",
        "\n",
        "\n",
        "`[Out]:` Итак, сегодня мы сделали много вещей. Обсудили морфологические характеристики и сложности русского языка, выяснили, что Stanza - самый крутой морфопарсер для русского языка, а также прояснили, что даже с хорошими масками лучше не парсить сентимент отзывов на \"Сумерки\" по биграммам. Ох уж этот загадочный сияющий на солнце Эдвард Каллен..."
      ]
    },
    {
      "cell_type": "markdown",
      "metadata": {
        "id": "g3qCOurLbbxE"
      },
      "source": [
        "`> attention: dasha.exe enters sleep mode`"
      ]
    }
  ],
  "metadata": {
    "colab": {
      "provenance": []
    },
    "kernelspec": {
      "display_name": "Python 3",
      "name": "python3"
    },
    "language_info": {
      "name": "python"
    },
    "widgets": {
      "application/vnd.jupyter.widget-state+json": {
        "03c9768dba4243dfb0b863ea024ecc70": {
          "model_module": "@jupyter-widgets/controls",
          "model_module_version": "1.5.0",
          "model_name": "HTMLModel",
          "state": {
            "_dom_classes": [],
            "_model_module": "@jupyter-widgets/controls",
            "_model_module_version": "1.5.0",
            "_model_name": "HTMLModel",
            "_view_count": null,
            "_view_module": "@jupyter-widgets/controls",
            "_view_module_version": "1.5.0",
            "_view_name": "HTMLView",
            "description": "",
            "description_tooltip": null,
            "layout": "IPY_MODEL_5a7b5c4b92fc44dc8f786af951bee213",
            "placeholder": "​",
            "style": "IPY_MODEL_c46fa99051fe4938b400e9107e7fadd1",
            "value": "Downloading https://raw.githubusercontent.com/stanfordnlp/stanza-resources/main/resources_1.6.0.json: "
          }
        },
        "09830e94ea254cc8a119e0ddb3ced45b": {
          "model_module": "@jupyter-widgets/controls",
          "model_module_version": "1.5.0",
          "model_name": "DescriptionStyleModel",
          "state": {
            "_model_module": "@jupyter-widgets/controls",
            "_model_module_version": "1.5.0",
            "_model_name": "DescriptionStyleModel",
            "_view_count": null,
            "_view_module": "@jupyter-widgets/base",
            "_view_module_version": "1.2.0",
            "_view_name": "StyleView",
            "description_width": ""
          }
        },
        "10a18a66e48141c3a28fca9732261798": {
          "model_module": "@jupyter-widgets/base",
          "model_module_version": "1.2.0",
          "model_name": "LayoutModel",
          "state": {
            "_model_module": "@jupyter-widgets/base",
            "_model_module_version": "1.2.0",
            "_model_name": "LayoutModel",
            "_view_count": null,
            "_view_module": "@jupyter-widgets/base",
            "_view_module_version": "1.2.0",
            "_view_name": "LayoutView",
            "align_content": null,
            "align_items": null,
            "align_self": null,
            "border": null,
            "bottom": null,
            "display": null,
            "flex": null,
            "flex_flow": null,
            "grid_area": null,
            "grid_auto_columns": null,
            "grid_auto_flow": null,
            "grid_auto_rows": null,
            "grid_column": null,
            "grid_gap": null,
            "grid_row": null,
            "grid_template_areas": null,
            "grid_template_columns": null,
            "grid_template_rows": null,
            "height": null,
            "justify_content": null,
            "justify_items": null,
            "left": null,
            "margin": null,
            "max_height": null,
            "max_width": null,
            "min_height": null,
            "min_width": null,
            "object_fit": null,
            "object_position": null,
            "order": null,
            "overflow": null,
            "overflow_x": null,
            "overflow_y": null,
            "padding": null,
            "right": null,
            "top": null,
            "visibility": null,
            "width": null
          }
        },
        "1116f772b3be4f84b9c3ed6b52b12c34": {
          "model_module": "@jupyter-widgets/base",
          "model_module_version": "1.2.0",
          "model_name": "LayoutModel",
          "state": {
            "_model_module": "@jupyter-widgets/base",
            "_model_module_version": "1.2.0",
            "_model_name": "LayoutModel",
            "_view_count": null,
            "_view_module": "@jupyter-widgets/base",
            "_view_module_version": "1.2.0",
            "_view_name": "LayoutView",
            "align_content": null,
            "align_items": null,
            "align_self": null,
            "border": null,
            "bottom": null,
            "display": null,
            "flex": null,
            "flex_flow": null,
            "grid_area": null,
            "grid_auto_columns": null,
            "grid_auto_flow": null,
            "grid_auto_rows": null,
            "grid_column": null,
            "grid_gap": null,
            "grid_row": null,
            "grid_template_areas": null,
            "grid_template_columns": null,
            "grid_template_rows": null,
            "height": null,
            "justify_content": null,
            "justify_items": null,
            "left": null,
            "margin": null,
            "max_height": null,
            "max_width": null,
            "min_height": null,
            "min_width": null,
            "object_fit": null,
            "object_position": null,
            "order": null,
            "overflow": null,
            "overflow_x": null,
            "overflow_y": null,
            "padding": null,
            "right": null,
            "top": null,
            "visibility": null,
            "width": null
          }
        },
        "129ab610b5af402a940cb8bc0970f59a": {
          "model_module": "@jupyter-widgets/base",
          "model_module_version": "1.2.0",
          "model_name": "LayoutModel",
          "state": {
            "_model_module": "@jupyter-widgets/base",
            "_model_module_version": "1.2.0",
            "_model_name": "LayoutModel",
            "_view_count": null,
            "_view_module": "@jupyter-widgets/base",
            "_view_module_version": "1.2.0",
            "_view_name": "LayoutView",
            "align_content": null,
            "align_items": null,
            "align_self": null,
            "border": null,
            "bottom": null,
            "display": null,
            "flex": null,
            "flex_flow": null,
            "grid_area": null,
            "grid_auto_columns": null,
            "grid_auto_flow": null,
            "grid_auto_rows": null,
            "grid_column": null,
            "grid_gap": null,
            "grid_row": null,
            "grid_template_areas": null,
            "grid_template_columns": null,
            "grid_template_rows": null,
            "height": null,
            "justify_content": null,
            "justify_items": null,
            "left": null,
            "margin": null,
            "max_height": null,
            "max_width": null,
            "min_height": null,
            "min_width": null,
            "object_fit": null,
            "object_position": null,
            "order": null,
            "overflow": null,
            "overflow_x": null,
            "overflow_y": null,
            "padding": null,
            "right": null,
            "top": null,
            "visibility": null,
            "width": null
          }
        },
        "1f7ef04ae10448ba8e3d5f975d69dd26": {
          "model_module": "@jupyter-widgets/controls",
          "model_module_version": "1.5.0",
          "model_name": "HBoxModel",
          "state": {
            "_dom_classes": [],
            "_model_module": "@jupyter-widgets/controls",
            "_model_module_version": "1.5.0",
            "_model_name": "HBoxModel",
            "_view_count": null,
            "_view_module": "@jupyter-widgets/controls",
            "_view_module_version": "1.5.0",
            "_view_name": "HBoxView",
            "box_style": "",
            "children": [
              "IPY_MODEL_03c9768dba4243dfb0b863ea024ecc70",
              "IPY_MODEL_fa15e8f90b0e44a58338ba60df383730",
              "IPY_MODEL_565e63e741b04fa0a0a115092d18befc"
            ],
            "layout": "IPY_MODEL_7931349131ca4a799e8bc2286a94bbd0"
          }
        },
        "232e9b94d87d4d8a88c1bf73a7ccccd1": {
          "model_module": "@jupyter-widgets/controls",
          "model_module_version": "1.5.0",
          "model_name": "HBoxModel",
          "state": {
            "_dom_classes": [],
            "_model_module": "@jupyter-widgets/controls",
            "_model_module_version": "1.5.0",
            "_model_name": "HBoxModel",
            "_view_count": null,
            "_view_module": "@jupyter-widgets/controls",
            "_view_module_version": "1.5.0",
            "_view_name": "HBoxView",
            "box_style": "",
            "children": [
              "IPY_MODEL_509c03599ae1443b8335a5bcf797d1b7",
              "IPY_MODEL_90f2ab634f9e4d179771374fcecdc842",
              "IPY_MODEL_950efbfc5e254dac939ed886355eeb20"
            ],
            "layout": "IPY_MODEL_10a18a66e48141c3a28fca9732261798"
          }
        },
        "23a7a3f041294820bba91fdc60d026ce": {
          "model_module": "@jupyter-widgets/base",
          "model_module_version": "1.2.0",
          "model_name": "LayoutModel",
          "state": {
            "_model_module": "@jupyter-widgets/base",
            "_model_module_version": "1.2.0",
            "_model_name": "LayoutModel",
            "_view_count": null,
            "_view_module": "@jupyter-widgets/base",
            "_view_module_version": "1.2.0",
            "_view_name": "LayoutView",
            "align_content": null,
            "align_items": null,
            "align_self": null,
            "border": null,
            "bottom": null,
            "display": null,
            "flex": null,
            "flex_flow": null,
            "grid_area": null,
            "grid_auto_columns": null,
            "grid_auto_flow": null,
            "grid_auto_rows": null,
            "grid_column": null,
            "grid_gap": null,
            "grid_row": null,
            "grid_template_areas": null,
            "grid_template_columns": null,
            "grid_template_rows": null,
            "height": null,
            "justify_content": null,
            "justify_items": null,
            "left": null,
            "margin": null,
            "max_height": null,
            "max_width": null,
            "min_height": null,
            "min_width": null,
            "object_fit": null,
            "object_position": null,
            "order": null,
            "overflow": null,
            "overflow_x": null,
            "overflow_y": null,
            "padding": null,
            "right": null,
            "top": null,
            "visibility": null,
            "width": null
          }
        },
        "309cb99904aa4331bc5af0812a4bd1e1": {
          "model_module": "@jupyter-widgets/controls",
          "model_module_version": "1.5.0",
          "model_name": "DescriptionStyleModel",
          "state": {
            "_model_module": "@jupyter-widgets/controls",
            "_model_module_version": "1.5.0",
            "_model_name": "DescriptionStyleModel",
            "_view_count": null,
            "_view_module": "@jupyter-widgets/base",
            "_view_module_version": "1.2.0",
            "_view_name": "StyleView",
            "description_width": ""
          }
        },
        "32bff563e1d9404da1a45c6b60de366f": {
          "model_module": "@jupyter-widgets/controls",
          "model_module_version": "1.5.0",
          "model_name": "HTMLModel",
          "state": {
            "_dom_classes": [],
            "_model_module": "@jupyter-widgets/controls",
            "_model_module_version": "1.5.0",
            "_model_name": "HTMLModel",
            "_view_count": null,
            "_view_module": "@jupyter-widgets/controls",
            "_view_module_version": "1.5.0",
            "_view_name": "HTMLView",
            "description": "",
            "description_tooltip": null,
            "layout": "IPY_MODEL_23a7a3f041294820bba91fdc60d026ce",
            "placeholder": "​",
            "style": "IPY_MODEL_09830e94ea254cc8a119e0ddb3ced45b",
            "value": " 367k/? [00:00&lt;00:00, 7.62MB/s]"
          }
        },
        "3a6aabd920b14c18ae6825b334bba621": {
          "model_module": "@jupyter-widgets/base",
          "model_module_version": "1.2.0",
          "model_name": "LayoutModel",
          "state": {
            "_model_module": "@jupyter-widgets/base",
            "_model_module_version": "1.2.0",
            "_model_name": "LayoutModel",
            "_view_count": null,
            "_view_module": "@jupyter-widgets/base",
            "_view_module_version": "1.2.0",
            "_view_name": "LayoutView",
            "align_content": null,
            "align_items": null,
            "align_self": null,
            "border": null,
            "bottom": null,
            "display": null,
            "flex": null,
            "flex_flow": null,
            "grid_area": null,
            "grid_auto_columns": null,
            "grid_auto_flow": null,
            "grid_auto_rows": null,
            "grid_column": null,
            "grid_gap": null,
            "grid_row": null,
            "grid_template_areas": null,
            "grid_template_columns": null,
            "grid_template_rows": null,
            "height": null,
            "justify_content": null,
            "justify_items": null,
            "left": null,
            "margin": null,
            "max_height": null,
            "max_width": null,
            "min_height": null,
            "min_width": null,
            "object_fit": null,
            "object_position": null,
            "order": null,
            "overflow": null,
            "overflow_x": null,
            "overflow_y": null,
            "padding": null,
            "right": null,
            "top": null,
            "visibility": null,
            "width": null
          }
        },
        "3ce1699a8c884085a8dce70906e065d1": {
          "model_module": "@jupyter-widgets/base",
          "model_module_version": "1.2.0",
          "model_name": "LayoutModel",
          "state": {
            "_model_module": "@jupyter-widgets/base",
            "_model_module_version": "1.2.0",
            "_model_name": "LayoutModel",
            "_view_count": null,
            "_view_module": "@jupyter-widgets/base",
            "_view_module_version": "1.2.0",
            "_view_name": "LayoutView",
            "align_content": null,
            "align_items": null,
            "align_self": null,
            "border": null,
            "bottom": null,
            "display": null,
            "flex": null,
            "flex_flow": null,
            "grid_area": null,
            "grid_auto_columns": null,
            "grid_auto_flow": null,
            "grid_auto_rows": null,
            "grid_column": null,
            "grid_gap": null,
            "grid_row": null,
            "grid_template_areas": null,
            "grid_template_columns": null,
            "grid_template_rows": null,
            "height": null,
            "justify_content": null,
            "justify_items": null,
            "left": null,
            "margin": null,
            "max_height": null,
            "max_width": null,
            "min_height": null,
            "min_width": null,
            "object_fit": null,
            "object_position": null,
            "order": null,
            "overflow": null,
            "overflow_x": null,
            "overflow_y": null,
            "padding": null,
            "right": null,
            "top": null,
            "visibility": null,
            "width": null
          }
        },
        "3dec4cca235846ef9d552d723bd13ebd": {
          "model_module": "@jupyter-widgets/base",
          "model_module_version": "1.2.0",
          "model_name": "LayoutModel",
          "state": {
            "_model_module": "@jupyter-widgets/base",
            "_model_module_version": "1.2.0",
            "_model_name": "LayoutModel",
            "_view_count": null,
            "_view_module": "@jupyter-widgets/base",
            "_view_module_version": "1.2.0",
            "_view_name": "LayoutView",
            "align_content": null,
            "align_items": null,
            "align_self": null,
            "border": null,
            "bottom": null,
            "display": null,
            "flex": null,
            "flex_flow": null,
            "grid_area": null,
            "grid_auto_columns": null,
            "grid_auto_flow": null,
            "grid_auto_rows": null,
            "grid_column": null,
            "grid_gap": null,
            "grid_row": null,
            "grid_template_areas": null,
            "grid_template_columns": null,
            "grid_template_rows": null,
            "height": null,
            "justify_content": null,
            "justify_items": null,
            "left": null,
            "margin": null,
            "max_height": null,
            "max_width": null,
            "min_height": null,
            "min_width": null,
            "object_fit": null,
            "object_position": null,
            "order": null,
            "overflow": null,
            "overflow_x": null,
            "overflow_y": null,
            "padding": null,
            "right": null,
            "top": null,
            "visibility": null,
            "width": null
          }
        },
        "4c807ca036f54295abd16634743af501": {
          "model_module": "@jupyter-widgets/controls",
          "model_module_version": "1.5.0",
          "model_name": "FloatProgressModel",
          "state": {
            "_dom_classes": [],
            "_model_module": "@jupyter-widgets/controls",
            "_model_module_version": "1.5.0",
            "_model_name": "FloatProgressModel",
            "_view_count": null,
            "_view_module": "@jupyter-widgets/controls",
            "_view_module_version": "1.5.0",
            "_view_name": "ProgressView",
            "bar_style": "success",
            "description": "",
            "description_tooltip": null,
            "layout": "IPY_MODEL_65ad0c5ff21b45129cdb9ed418a3f611",
            "max": 45749,
            "min": 0,
            "orientation": "horizontal",
            "style": "IPY_MODEL_b3f550abd709422aaab043b498a61773",
            "value": 45749
          }
        },
        "4d71f0a2efae44c9b2de169e0d1c1668": {
          "model_module": "@jupyter-widgets/base",
          "model_module_version": "1.2.0",
          "model_name": "LayoutModel",
          "state": {
            "_model_module": "@jupyter-widgets/base",
            "_model_module_version": "1.2.0",
            "_model_name": "LayoutModel",
            "_view_count": null,
            "_view_module": "@jupyter-widgets/base",
            "_view_module_version": "1.2.0",
            "_view_name": "LayoutView",
            "align_content": null,
            "align_items": null,
            "align_self": null,
            "border": null,
            "bottom": null,
            "display": null,
            "flex": null,
            "flex_flow": null,
            "grid_area": null,
            "grid_auto_columns": null,
            "grid_auto_flow": null,
            "grid_auto_rows": null,
            "grid_column": null,
            "grid_gap": null,
            "grid_row": null,
            "grid_template_areas": null,
            "grid_template_columns": null,
            "grid_template_rows": null,
            "height": null,
            "justify_content": null,
            "justify_items": null,
            "left": null,
            "margin": null,
            "max_height": null,
            "max_width": null,
            "min_height": null,
            "min_width": null,
            "object_fit": null,
            "object_position": null,
            "order": null,
            "overflow": null,
            "overflow_x": null,
            "overflow_y": null,
            "padding": null,
            "right": null,
            "top": null,
            "visibility": null,
            "width": null
          }
        },
        "4f787be05179492485222a31d4731e4a": {
          "model_module": "@jupyter-widgets/controls",
          "model_module_version": "1.5.0",
          "model_name": "ProgressStyleModel",
          "state": {
            "_model_module": "@jupyter-widgets/controls",
            "_model_module_version": "1.5.0",
            "_model_name": "ProgressStyleModel",
            "_view_count": null,
            "_view_module": "@jupyter-widgets/base",
            "_view_module_version": "1.2.0",
            "_view_name": "StyleView",
            "bar_color": null,
            "description_width": ""
          }
        },
        "509c03599ae1443b8335a5bcf797d1b7": {
          "model_module": "@jupyter-widgets/controls",
          "model_module_version": "1.5.0",
          "model_name": "HTMLModel",
          "state": {
            "_dom_classes": [],
            "_model_module": "@jupyter-widgets/controls",
            "_model_module_version": "1.5.0",
            "_model_name": "HTMLModel",
            "_view_count": null,
            "_view_module": "@jupyter-widgets/controls",
            "_view_module_version": "1.5.0",
            "_view_name": "HTMLView",
            "description": "",
            "description_tooltip": null,
            "layout": "IPY_MODEL_9c9addee55844d20bf29c3b07bdbe306",
            "placeholder": "​",
            "style": "IPY_MODEL_f9b15112bfee4e299bb545ab1bddbdfa",
            "value": "Downloading https://huggingface.co/stanfordnlp/stanza-ru/resolve/v1.6.0/models/default.zip: 100%"
          }
        },
        "565e63e741b04fa0a0a115092d18befc": {
          "model_module": "@jupyter-widgets/controls",
          "model_module_version": "1.5.0",
          "model_name": "HTMLModel",
          "state": {
            "_dom_classes": [],
            "_model_module": "@jupyter-widgets/controls",
            "_model_module_version": "1.5.0",
            "_model_name": "HTMLModel",
            "_view_count": null,
            "_view_module": "@jupyter-widgets/controls",
            "_view_module_version": "1.5.0",
            "_view_name": "HTMLView",
            "description": "",
            "description_tooltip": null,
            "layout": "IPY_MODEL_3ce1699a8c884085a8dce70906e065d1",
            "placeholder": "​",
            "style": "IPY_MODEL_f33d45bd432e455a8fb0bc7d6d53afac",
            "value": " 367k/? [00:00&lt;00:00, 7.27MB/s]"
          }
        },
        "5a7b5c4b92fc44dc8f786af951bee213": {
          "model_module": "@jupyter-widgets/base",
          "model_module_version": "1.2.0",
          "model_name": "LayoutModel",
          "state": {
            "_model_module": "@jupyter-widgets/base",
            "_model_module_version": "1.2.0",
            "_model_name": "LayoutModel",
            "_view_count": null,
            "_view_module": "@jupyter-widgets/base",
            "_view_module_version": "1.2.0",
            "_view_name": "LayoutView",
            "align_content": null,
            "align_items": null,
            "align_self": null,
            "border": null,
            "bottom": null,
            "display": null,
            "flex": null,
            "flex_flow": null,
            "grid_area": null,
            "grid_auto_columns": null,
            "grid_auto_flow": null,
            "grid_auto_rows": null,
            "grid_column": null,
            "grid_gap": null,
            "grid_row": null,
            "grid_template_areas": null,
            "grid_template_columns": null,
            "grid_template_rows": null,
            "height": null,
            "justify_content": null,
            "justify_items": null,
            "left": null,
            "margin": null,
            "max_height": null,
            "max_width": null,
            "min_height": null,
            "min_width": null,
            "object_fit": null,
            "object_position": null,
            "order": null,
            "overflow": null,
            "overflow_x": null,
            "overflow_y": null,
            "padding": null,
            "right": null,
            "top": null,
            "visibility": null,
            "width": null
          }
        },
        "65ad0c5ff21b45129cdb9ed418a3f611": {
          "model_module": "@jupyter-widgets/base",
          "model_module_version": "1.2.0",
          "model_name": "LayoutModel",
          "state": {
            "_model_module": "@jupyter-widgets/base",
            "_model_module_version": "1.2.0",
            "_model_name": "LayoutModel",
            "_view_count": null,
            "_view_module": "@jupyter-widgets/base",
            "_view_module_version": "1.2.0",
            "_view_name": "LayoutView",
            "align_content": null,
            "align_items": null,
            "align_self": null,
            "border": null,
            "bottom": null,
            "display": null,
            "flex": null,
            "flex_flow": null,
            "grid_area": null,
            "grid_auto_columns": null,
            "grid_auto_flow": null,
            "grid_auto_rows": null,
            "grid_column": null,
            "grid_gap": null,
            "grid_row": null,
            "grid_template_areas": null,
            "grid_template_columns": null,
            "grid_template_rows": null,
            "height": null,
            "justify_content": null,
            "justify_items": null,
            "left": null,
            "margin": null,
            "max_height": null,
            "max_width": null,
            "min_height": null,
            "min_width": null,
            "object_fit": null,
            "object_position": null,
            "order": null,
            "overflow": null,
            "overflow_x": null,
            "overflow_y": null,
            "padding": null,
            "right": null,
            "top": null,
            "visibility": null,
            "width": null
          }
        },
        "73f014714d1149529b4e9c9cbd2b90f4": {
          "model_module": "@jupyter-widgets/controls",
          "model_module_version": "1.5.0",
          "model_name": "HTMLModel",
          "state": {
            "_dom_classes": [],
            "_model_module": "@jupyter-widgets/controls",
            "_model_module_version": "1.5.0",
            "_model_name": "HTMLModel",
            "_view_count": null,
            "_view_module": "@jupyter-widgets/controls",
            "_view_module_version": "1.5.0",
            "_view_name": "HTMLView",
            "description": "",
            "description_tooltip": null,
            "layout": "IPY_MODEL_1116f772b3be4f84b9c3ed6b52b12c34",
            "placeholder": "​",
            "style": "IPY_MODEL_79e786f0e1f7417ab7543ea505e1d119",
            "value": "Downloading https://raw.githubusercontent.com/stanfordnlp/stanza-resources/main/resources_1.6.0.json: "
          }
        },
        "7931349131ca4a799e8bc2286a94bbd0": {
          "model_module": "@jupyter-widgets/base",
          "model_module_version": "1.2.0",
          "model_name": "LayoutModel",
          "state": {
            "_model_module": "@jupyter-widgets/base",
            "_model_module_version": "1.2.0",
            "_model_name": "LayoutModel",
            "_view_count": null,
            "_view_module": "@jupyter-widgets/base",
            "_view_module_version": "1.2.0",
            "_view_name": "LayoutView",
            "align_content": null,
            "align_items": null,
            "align_self": null,
            "border": null,
            "bottom": null,
            "display": null,
            "flex": null,
            "flex_flow": null,
            "grid_area": null,
            "grid_auto_columns": null,
            "grid_auto_flow": null,
            "grid_auto_rows": null,
            "grid_column": null,
            "grid_gap": null,
            "grid_row": null,
            "grid_template_areas": null,
            "grid_template_columns": null,
            "grid_template_rows": null,
            "height": null,
            "justify_content": null,
            "justify_items": null,
            "left": null,
            "margin": null,
            "max_height": null,
            "max_width": null,
            "min_height": null,
            "min_width": null,
            "object_fit": null,
            "object_position": null,
            "order": null,
            "overflow": null,
            "overflow_x": null,
            "overflow_y": null,
            "padding": null,
            "right": null,
            "top": null,
            "visibility": null,
            "width": null
          }
        },
        "79e786f0e1f7417ab7543ea505e1d119": {
          "model_module": "@jupyter-widgets/controls",
          "model_module_version": "1.5.0",
          "model_name": "DescriptionStyleModel",
          "state": {
            "_model_module": "@jupyter-widgets/controls",
            "_model_module_version": "1.5.0",
            "_model_name": "DescriptionStyleModel",
            "_view_count": null,
            "_view_module": "@jupyter-widgets/base",
            "_view_module_version": "1.2.0",
            "_view_name": "StyleView",
            "description_width": ""
          }
        },
        "90f2ab634f9e4d179771374fcecdc842": {
          "model_module": "@jupyter-widgets/controls",
          "model_module_version": "1.5.0",
          "model_name": "FloatProgressModel",
          "state": {
            "_dom_classes": [],
            "_model_module": "@jupyter-widgets/controls",
            "_model_module_version": "1.5.0",
            "_model_name": "FloatProgressModel",
            "_view_count": null,
            "_view_module": "@jupyter-widgets/controls",
            "_view_module_version": "1.5.0",
            "_view_name": "ProgressView",
            "bar_style": "success",
            "description": "",
            "description_tooltip": null,
            "layout": "IPY_MODEL_3a6aabd920b14c18ae6825b334bba621",
            "max": 629556121,
            "min": 0,
            "orientation": "horizontal",
            "style": "IPY_MODEL_fb58b16953c5478189cbe0b35a504723",
            "value": 629556121
          }
        },
        "950efbfc5e254dac939ed886355eeb20": {
          "model_module": "@jupyter-widgets/controls",
          "model_module_version": "1.5.0",
          "model_name": "HTMLModel",
          "state": {
            "_dom_classes": [],
            "_model_module": "@jupyter-widgets/controls",
            "_model_module_version": "1.5.0",
            "_model_name": "HTMLModel",
            "_view_count": null,
            "_view_module": "@jupyter-widgets/controls",
            "_view_module_version": "1.5.0",
            "_view_name": "HTMLView",
            "description": "",
            "description_tooltip": null,
            "layout": "IPY_MODEL_129ab610b5af402a940cb8bc0970f59a",
            "placeholder": "​",
            "style": "IPY_MODEL_309cb99904aa4331bc5af0812a4bd1e1",
            "value": " 630M/630M [00:30&lt;00:00, 21.9MB/s]"
          }
        },
        "9c9addee55844d20bf29c3b07bdbe306": {
          "model_module": "@jupyter-widgets/base",
          "model_module_version": "1.2.0",
          "model_name": "LayoutModel",
          "state": {
            "_model_module": "@jupyter-widgets/base",
            "_model_module_version": "1.2.0",
            "_model_name": "LayoutModel",
            "_view_count": null,
            "_view_module": "@jupyter-widgets/base",
            "_view_module_version": "1.2.0",
            "_view_name": "LayoutView",
            "align_content": null,
            "align_items": null,
            "align_self": null,
            "border": null,
            "bottom": null,
            "display": null,
            "flex": null,
            "flex_flow": null,
            "grid_area": null,
            "grid_auto_columns": null,
            "grid_auto_flow": null,
            "grid_auto_rows": null,
            "grid_column": null,
            "grid_gap": null,
            "grid_row": null,
            "grid_template_areas": null,
            "grid_template_columns": null,
            "grid_template_rows": null,
            "height": null,
            "justify_content": null,
            "justify_items": null,
            "left": null,
            "margin": null,
            "max_height": null,
            "max_width": null,
            "min_height": null,
            "min_width": null,
            "object_fit": null,
            "object_position": null,
            "order": null,
            "overflow": null,
            "overflow_x": null,
            "overflow_y": null,
            "padding": null,
            "right": null,
            "top": null,
            "visibility": null,
            "width": null
          }
        },
        "b3f550abd709422aaab043b498a61773": {
          "model_module": "@jupyter-widgets/controls",
          "model_module_version": "1.5.0",
          "model_name": "ProgressStyleModel",
          "state": {
            "_model_module": "@jupyter-widgets/controls",
            "_model_module_version": "1.5.0",
            "_model_name": "ProgressStyleModel",
            "_view_count": null,
            "_view_module": "@jupyter-widgets/base",
            "_view_module_version": "1.2.0",
            "_view_name": "StyleView",
            "bar_color": null,
            "description_width": ""
          }
        },
        "c4149df3d507443da9aa7a9c23c978b1": {
          "model_module": "@jupyter-widgets/controls",
          "model_module_version": "1.5.0",
          "model_name": "HBoxModel",
          "state": {
            "_dom_classes": [],
            "_model_module": "@jupyter-widgets/controls",
            "_model_module_version": "1.5.0",
            "_model_name": "HBoxModel",
            "_view_count": null,
            "_view_module": "@jupyter-widgets/controls",
            "_view_module_version": "1.5.0",
            "_view_name": "HBoxView",
            "box_style": "",
            "children": [
              "IPY_MODEL_73f014714d1149529b4e9c9cbd2b90f4",
              "IPY_MODEL_4c807ca036f54295abd16634743af501",
              "IPY_MODEL_32bff563e1d9404da1a45c6b60de366f"
            ],
            "layout": "IPY_MODEL_4d71f0a2efae44c9b2de169e0d1c1668"
          }
        },
        "c46fa99051fe4938b400e9107e7fadd1": {
          "model_module": "@jupyter-widgets/controls",
          "model_module_version": "1.5.0",
          "model_name": "DescriptionStyleModel",
          "state": {
            "_model_module": "@jupyter-widgets/controls",
            "_model_module_version": "1.5.0",
            "_model_name": "DescriptionStyleModel",
            "_view_count": null,
            "_view_module": "@jupyter-widgets/base",
            "_view_module_version": "1.2.0",
            "_view_name": "StyleView",
            "description_width": ""
          }
        },
        "f33d45bd432e455a8fb0bc7d6d53afac": {
          "model_module": "@jupyter-widgets/controls",
          "model_module_version": "1.5.0",
          "model_name": "DescriptionStyleModel",
          "state": {
            "_model_module": "@jupyter-widgets/controls",
            "_model_module_version": "1.5.0",
            "_model_name": "DescriptionStyleModel",
            "_view_count": null,
            "_view_module": "@jupyter-widgets/base",
            "_view_module_version": "1.2.0",
            "_view_name": "StyleView",
            "description_width": ""
          }
        },
        "f9b15112bfee4e299bb545ab1bddbdfa": {
          "model_module": "@jupyter-widgets/controls",
          "model_module_version": "1.5.0",
          "model_name": "DescriptionStyleModel",
          "state": {
            "_model_module": "@jupyter-widgets/controls",
            "_model_module_version": "1.5.0",
            "_model_name": "DescriptionStyleModel",
            "_view_count": null,
            "_view_module": "@jupyter-widgets/base",
            "_view_module_version": "1.2.0",
            "_view_name": "StyleView",
            "description_width": ""
          }
        },
        "fa15e8f90b0e44a58338ba60df383730": {
          "model_module": "@jupyter-widgets/controls",
          "model_module_version": "1.5.0",
          "model_name": "FloatProgressModel",
          "state": {
            "_dom_classes": [],
            "_model_module": "@jupyter-widgets/controls",
            "_model_module_version": "1.5.0",
            "_model_name": "FloatProgressModel",
            "_view_count": null,
            "_view_module": "@jupyter-widgets/controls",
            "_view_module_version": "1.5.0",
            "_view_name": "ProgressView",
            "bar_style": "success",
            "description": "",
            "description_tooltip": null,
            "layout": "IPY_MODEL_3dec4cca235846ef9d552d723bd13ebd",
            "max": 45749,
            "min": 0,
            "orientation": "horizontal",
            "style": "IPY_MODEL_4f787be05179492485222a31d4731e4a",
            "value": 45749
          }
        },
        "fb58b16953c5478189cbe0b35a504723": {
          "model_module": "@jupyter-widgets/controls",
          "model_module_version": "1.5.0",
          "model_name": "ProgressStyleModel",
          "state": {
            "_model_module": "@jupyter-widgets/controls",
            "_model_module_version": "1.5.0",
            "_model_name": "ProgressStyleModel",
            "_view_count": null,
            "_view_module": "@jupyter-widgets/base",
            "_view_module_version": "1.2.0",
            "_view_name": "StyleView",
            "bar_color": null,
            "description_width": ""
          }
        }
      }
    }
  },
  "nbformat": 4,
  "nbformat_minor": 0
}